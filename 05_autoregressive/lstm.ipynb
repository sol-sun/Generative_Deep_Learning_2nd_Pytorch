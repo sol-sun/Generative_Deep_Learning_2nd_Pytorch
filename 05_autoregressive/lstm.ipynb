{
  "cells": [
    {
      "cell_type": "markdown",
      "metadata": {
        "id": "view-in-github",
        "colab_type": "text"
      },
      "source": [
        "<a href=\"https://colab.research.google.com/github/sol-sun/Generative_Deep_Learning_2nd_Pytorch/blob/main/05_autoregressive/lstm.ipynb\" target=\"_parent\"><img src=\"https://colab.research.google.com/assets/colab-badge.svg\" alt=\"Open In Colab\"/></a>"
      ]
    },
    {
      "cell_type": "markdown",
      "metadata": {
        "formattedRanges": [],
        "cell_id": "849db0d872d54e809560903442b8ee50",
        "deepnote_cell_type": "text-cell-h1",
        "id": "snkc3JGuCeX4"
      },
      "source": [
        "# 🥙 レシピデータ上のLSTM"
      ]
    },
    {
      "cell_type": "markdown",
      "metadata": {
        "formattedRanges": [],
        "cell_id": "e5e6ae009cf54fe3b1a47720815759b1",
        "deepnote_cell_type": "text-cell-p",
        "id": "6Xt1Fmo_CeX6"
      },
      "source": [
        "本ノートブックでは，レシピデータセットを使ってLSTMを学習する．"
      ]
    },
    {
      "cell_type": "code",
      "source": [
        "!pip install datasets | tail -n 1\n",
        "!pip install japanize_matplotlib | tail -n 1\n",
        "!pip install kagglehub | tail -n 1\n",
        "!pip install torchinfo | tail -n 1"
      ],
      "metadata": {
        "colab": {
          "base_uri": "https://localhost:8080/"
        },
        "id": "mg2PaolCFT5_",
        "outputId": "aafed5fc-077a-4aaf-a68b-c4c515a7c299"
      },
      "execution_count": 1,
      "outputs": [
        {
          "output_type": "stream",
          "name": "stdout",
          "text": [
            "\u001b[31mERROR: pip's dependency resolver does not currently take into account all the packages that are installed. This behaviour is the source of the following dependency conflicts.\n",
            "gcsfs 2024.10.0 requires fsspec==2024.10.0, but you have fsspec 2024.9.0 which is incompatible.\u001b[0m\u001b[31m\n",
            "\u001b[0mSuccessfully installed datasets-3.1.0 dill-0.3.8 fsspec-2024.9.0 multiprocess-0.70.16 xxhash-3.5.0\n",
            "Successfully installed japanize_matplotlib-1.1.3\n",
            "Requirement already satisfied: certifi>=2017.4.17 in /usr/local/lib/python3.10/dist-packages (from requests->kagglehub) (2024.8.30)\n",
            "Successfully installed torchinfo-1.8.0\n"
          ]
        }
      ]
    },
    {
      "cell_type": "code",
      "metadata": {
        "source_hash": "eec0612a",
        "execution_start": 1732637118556,
        "execution_millis": 6765,
        "execution_context_id": "73c9a910-3800-4031-aaf5-e2921d7a2e26",
        "cell_id": "6d65dcdbcab44092a8036847c208e068",
        "deepnote_cell_type": "code",
        "colab": {
          "base_uri": "https://localhost:8080/"
        },
        "id": "EhSokxF8CeX6",
        "outputId": "0d16efae-afa3-43bd-81d2-b0fdaaeb9e94"
      },
      "source": [
        "import numpy as np\n",
        "import os\n",
        "import re\n",
        "import string\n",
        "import shutil\n",
        "import matplotlib.pyplot as plt\n",
        "import japanize_matplotlib\n",
        "from datasets import Dataset as HFDataset\n",
        "import torchvision\n",
        "import torch\n",
        "import torchinfo\n",
        "import random\n",
        "import json\n",
        "import pandas as pd\n",
        "import kagglehub\n",
        "from torch import nn\n",
        "from torch.utils.data import Dataset, DataLoader, Subset\n",
        "from transformers import AutoTokenizer, PretrainedConfig, PreTrainedModel, pipeline\n",
        "from transformers.models.auto.modeling_auto import MODEL_FOR_CAUSAL_LM_MAPPING_NAMES\n",
        "from transformers.modeling_outputs import CausalLMOutput\n",
        "\n",
        "import sys\n",
        "print(sys.version)\n",
        "print(torch.__version__)\n",
        "print(torchvision.__version__)"
      ],
      "execution_count": 2,
      "outputs": [
        {
          "output_type": "stream",
          "name": "stdout",
          "text": [
            "3.10.12 (main, Nov  6 2024, 20:22:13) [GCC 11.4.0]\n",
            "2.5.1+cu121\n",
            "0.20.1+cu121\n"
          ]
        }
      ]
    },
    {
      "cell_type": "code",
      "metadata": {
        "source_hash": "3088cf3c",
        "execution_start": 1732637138803,
        "execution_millis": 4,
        "execution_context_id": "30a0bcfa-bb26-4ec4-873b-e4c2dba4c9f3",
        "cell_id": "16bab410062f47b39ea43a37366e7d74",
        "deepnote_cell_type": "code",
        "colab": {
          "base_uri": "https://localhost:8080/"
        },
        "id": "bxQcbEhQCeX7",
        "outputId": "f37dacd9-c0b8-4a1d-82d2-3b30eaca1b0b"
      },
      "source": [
        "def set_seed(seed):\n",
        "    random.seed(seed)\n",
        "    np.random.seed(seed)\n",
        "    torch.manual_seed(seed)\n",
        "    if torch.backends.mps.is_available():\n",
        "        # MPSを使用する場合の設定\n",
        "        torch.backends.mps.deterministic = True\n",
        "    elif torch.cuda.is_available():\n",
        "        # CUDAが利用可能な場合\n",
        "        torch.cuda.manual_seed(seed)\n",
        "        torch.cuda.manual_seed_all(seed)\n",
        "        torch.backends.cudnn.deterministic = True\n",
        "        torch.backends.cudnn.benchmark = False\n",
        "\n",
        "def save_model(model, path):\n",
        "    directory = os.path.dirname(path)\n",
        "    if directory != '':\n",
        "        os.makedirs(directory, exist_ok=True) # ディレクトリを作成\n",
        "    model.eval()\n",
        "    torch.save(model.state_dict(), path)\n",
        "\n",
        "def load_model(model, path, device):\n",
        "    model.load_state_dict(torch.load(path, map_location=device, weights_only=False))\n",
        "    model = model.to(device)\n",
        "    model.eval()\n",
        "    print(f\"Model loaded from {path}\")\n",
        "    return model\n",
        "\n",
        "def save_metrics(metrics_per_epoch, filename):\n",
        "    directory = os.path.dirname(path)\n",
        "    if directory != '':\n",
        "        os.makedirs(directory, exist_ok=True) # ディレクトリを作成\n",
        "    # ファイルにメトリクスを保存\n",
        "    with open(filename, \"w\") as f:\n",
        "        json.dump(metrics_per_epoch, f, indent=2)\n",
        "    with open(filename, \"w\") as f:\n",
        "        json.dump(metrics_per_epoch, f, indent=2)\n",
        "\n",
        "# シード値を設定\n",
        "set_seed(1234)\n",
        "\n",
        "if torch.cuda.is_available():\n",
        "    device = torch.device('cuda')\n",
        "elif torch.backends.mps.is_available():\n",
        "    device = torch.device('mps')\n",
        "else:\n",
        "    device = torch.device('cpu')\n",
        "\n",
        "print(device)"
      ],
      "execution_count": 3,
      "outputs": [
        {
          "output_type": "stream",
          "name": "stdout",
          "text": [
            "cpu\n"
          ]
        }
      ]
    },
    {
      "cell_type": "markdown",
      "metadata": {
        "formattedRanges": [],
        "cell_id": "0d61f20acaab4de996efeb597abe3185",
        "deepnote_cell_type": "text-cell-h2",
        "id": "zBKYXT_zCeX8"
      },
      "source": [
        "## 0. パラメータ"
      ]
    },
    {
      "cell_type": "code",
      "metadata": {
        "source_hash": "23fb3569",
        "execution_start": 1732637141080,
        "execution_millis": 0,
        "execution_context_id": "dc2fde2f-a809-48be-b1e4-08c233e64f79",
        "cell_id": "cb087872971142388ed049379d8b2e60",
        "deepnote_cell_type": "code",
        "id": "WGSn4CqKCeX8"
      },
      "source": [
        "# VOCAB_SIZE = 10000\n",
        "MAX_LEN = 200\n",
        "EMBEDDING_DIM = 100\n",
        "N_UNITS = 128\n",
        "VALIDATION_SPLIT = 0.2\n",
        "SEED = 42\n",
        "LOAD_MODEL = False\n",
        "BATCH_SIZE = 32\n",
        "EPOCHS = 25"
      ],
      "execution_count": 4,
      "outputs": []
    },
    {
      "cell_type": "markdown",
      "metadata": {
        "formattedRanges": [],
        "cell_id": "63dc0e66960e4e209b472888637b452a",
        "deepnote_cell_type": "text-cell-h2",
        "id": "18Al7JKpCeX8"
      },
      "source": [
        "## 1. データを準備する"
      ]
    },
    {
      "cell_type": "code",
      "metadata": {
        "source_hash": "d3e03f14",
        "execution_start": 1732637142820,
        "execution_millis": 2074,
        "execution_context_id": "73c9a910-3800-4031-aaf5-e2921d7a2e26",
        "cell_id": "82f5a1f8b1ed4832950c17b3a2bb4ddf",
        "deepnote_cell_type": "code",
        "colab": {
          "base_uri": "https://localhost:8080/"
        },
        "id": "2X-qWr42CeX8",
        "outputId": "5d91fedb-9609-4c94-e9b2-72b9a7e32a3b"
      },
      "source": [
        "# kagglehubを使ってダウンロード -> pathに保存\n",
        "path = kagglehub.dataset_download(\"hugodarwood/epirecipes\")\n",
        "print(\"Path to dataset files:\", path)\n",
        "# 属性情報を読み込む\n",
        "with open(os.path.join(path, \"full_format_recipes.json\")) as f:\n",
        "    recipe_data = json.load(f)\n",
        "# [SEP]を文末に挿入（ストップトークンとして扱う）\n",
        "eos = '[SEP]'\n",
        "text_data = [\n",
        "    'Recipe for ' + x['title'] + ' | ' + ' '.join(x['directions']) + eos\n",
        "    for x in recipe_data\n",
        "    if 'title' in x\n",
        "    and x['title'] is not None\n",
        "    and 'directions' in x\n",
        "    and len(x['directions']) > 0  # directions is not None\n",
        "]\n",
        "# レシピ数\n",
        "n_recipes = len(text_data)\n",
        "print(f\"{n_recipes} レシピを読み込みました．\")\n",
        "\n",
        "example = text_data[9]\n",
        "print(example)"
      ],
      "execution_count": 5,
      "outputs": [
        {
          "output_type": "stream",
          "name": "stdout",
          "text": [
            "Downloading from https://www.kaggle.com/api/v1/datasets/download/hugodarwood/epirecipes?dataset_version_number=2...\n"
          ]
        },
        {
          "output_type": "stream",
          "name": "stderr",
          "text": [
            "100%|██████████| 11.3M/11.3M [00:00<00:00, 12.9MB/s]"
          ]
        },
        {
          "output_type": "stream",
          "name": "stdout",
          "text": [
            "Extracting files...\n"
          ]
        },
        {
          "output_type": "stream",
          "name": "stderr",
          "text": [
            "\n"
          ]
        },
        {
          "output_type": "stream",
          "name": "stdout",
          "text": [
            "Path to dataset files: /root/.cache/kagglehub/datasets/hugodarwood/epirecipes/versions/2\n",
            "20098 レシピを読み込みました．\n",
            "Recipe for Ham Persillade with Mustard Potato Salad and Mashed Peas  | Chop enough parsley leaves to measure 1 tablespoon; reserve. Chop remaining leaves and stems and simmer with broth and garlic in a small saucepan, covered, 5 minutes. Meanwhile, sprinkle gelatin over water in a medium bowl and let soften 1 minute. Strain broth through a fine-mesh sieve into bowl with gelatin and stir to dissolve. Season with salt and pepper. Set bowl in an ice bath and cool to room temperature, stirring. Toss ham with reserved parsley and divide among jars. Pour gelatin on top and chill until set, at least 1 hour. Whisk together mayonnaise, mustard, vinegar, 1/4 teaspoon salt, and 1/4 teaspoon pepper in a large bowl. Stir in celery, cornichons, and potatoes. Pulse peas with marjoram, oil, 1/2 teaspoon pepper, and 1/4 teaspoon salt in a food processor to a coarse mash. Layer peas, then potato salad, over ham.[SEP]\n"
          ]
        }
      ]
    },
    {
      "cell_type": "markdown",
      "metadata": {
        "formattedRanges": [],
        "cell_id": "563f3ace30f043a38a08ef0511e3a6cf",
        "deepnote_cell_type": "text-cell-h2",
        "id": "o22GDk7PCeX8"
      },
      "source": [
        "## 2. データをトークン化する"
      ]
    },
    {
      "cell_type": "code",
      "metadata": {
        "source_hash": "1873bf4f",
        "execution_start": 1732637152918,
        "execution_millis": 1,
        "execution_context_id": "ea7ebebd-bd1c-4da5-85f3-1a0a5b851fb6",
        "cell_id": "0a0d3c1ac5d14580868f07b8b5be77be",
        "deepnote_cell_type": "code",
        "id": "bBn49gQBCeX9"
      },
      "source": [
        "# テキストをベクトル化して、xとyを作成する関数\n",
        "def tokenize_and_shift(batch, tokenizer, device):\n",
        "    texts = [text for text in batch[\"full_text\"]]\n",
        "    encoding = tokenizer(\n",
        "        texts,\n",
        "        padding=\"max_length\",\n",
        "        truncation=True,\n",
        "        max_length=MAX_LEN + 1, # [SEP]を含めて\n",
        "        return_tensors=\"pt\",\n",
        "        add_special_tokens=False  # [SEP]を[EOS]として扱う（データ作成時に手動追加）\n",
        "        # 確認用(BertTokenizerでは，文頭に[CLS]，文末(文間)に[SEP]を追加している．わざわざエンコーダベースのBertTokenizerを使わなくてもいいが学習のため)\n",
        "        # print(tokenizer.encode(tokenizer.pad_token, add_special_tokens=True))\n",
        "        # print(tokenizer.encode(tokenizer.sep_token, add_special_tokens=True))\n",
        "        # print(tokenizer.encode(tokenizer.cls_token, add_special_tokens=True))\n",
        "    ).to(device)\n",
        "\n",
        "    x = encoding[\"input_ids\"][:, :-1]\n",
        "    y = encoding[\"input_ids\"][:, 1:]\n",
        "\n",
        "    return {\"x\": x, \"y\": y}"
      ],
      "execution_count": 6,
      "outputs": []
    },
    {
      "cell_type": "markdown",
      "metadata": {
        "formattedRanges": [],
        "cell_id": "022f0581adbd47a38738894ea4662063",
        "deepnote_cell_type": "text-cell-h2",
        "id": "St3qshYuCeX9"
      },
      "source": [
        "## 3. 学習用データの作成"
      ]
    },
    {
      "cell_type": "code",
      "metadata": {
        "source_hash": "e3aecd12",
        "execution_start": 1732637155555,
        "execution_millis": 15094,
        "execution_context_id": "73c9a910-3800-4031-aaf5-e2921d7a2e26",
        "cell_id": "c74e59f0201345b0a080f8c12637d63c",
        "deepnote_cell_type": "code",
        "colab": {
          "base_uri": "https://localhost:8080/",
          "height": 379,
          "referenced_widgets": [
            "9f34d5904f3d4c4faef99a26be11d957",
            "9df165195bb641298a7c6f0aa07dced1",
            "994c89f5b29f4227b23f8cc4fd81b816",
            "0fb662e0f8d843eaa8b6fcf551ff66e7",
            "94d82f76c03043c1839fc55ccdfc7020",
            "f082751741664332acedde824a59ad77",
            "18a61d3e274b48e590e38252a3ac1147",
            "f8edf2d03a044474931ae71027a1032c",
            "8cc4b6624c534edc818001d67f05955b",
            "91523e6e8b0c40ee8312a423ca7c684c",
            "e75c45fe2ff6498f9494b4d9d5092f81",
            "97298aa283124f579733cb74d5692b1f",
            "acac0019c94c421eb9309540c3164ccf",
            "affedab6ae784bd79322296baa71269c",
            "08f78118161b4180b576b3e9b6a04d1c",
            "866260c4c8bb4a3e88b2ea703ec7b7d2",
            "e57175b8d4574722862527980f857430",
            "bd6be5a5cfae4450bd5dcd80a553ff1c",
            "3ae1195237fd4f7f926d167755e25679",
            "022a19ec4bee48989186d8cc49dbea5c",
            "b64861bcadf946f0a3a7d95ca553f0a7",
            "774f5264ac9c478a96ceeb94ce9fb157",
            "0aa4da57c42a45aca8eed258cd86d810",
            "a48d9a9cd6274baf9e95f886b9e1c81e",
            "07911624ae63404cbddafe1e9f919ce5",
            "8fbf78bd56df45859e1ed0a7549705a5",
            "8dabd3c2408a4cb7a9d157d7098989d7",
            "58e33d8f024545f9a46abb2a7081ba75",
            "8f04e496e20845dfaecb4bd051708614",
            "f64efcb122714cb48abf791905c507e3",
            "e17293cdc15d4b0f94b05940f980b423",
            "aee1a10f9430410b90cef73863c4c4a3",
            "3ab98da2b7864cf0afa24fdd623f4145",
            "934563e8be354b49bdb76e8fc2fb3266",
            "2fb695a384104f249f8760c06c73f966",
            "88bd4cba6ab841699aacc0a1dbde7d2c",
            "c8fd7721978545bc901a3f04c4c55632",
            "5f95a1c72db84d6f9ff13a4d8d348d2c",
            "7f9cb074fcff440d88ac2543537373ad",
            "1f9d30ceaf244b71b4aea12ce43e93ec",
            "d2730ccd672c450a8d35586bdc2fa92e",
            "6eb8e146d26849a1887b0fe91fb4936f",
            "00473441a05e4e78b78c34b2dc3d8cf2",
            "f53259be005c4455b30384d61c3bf5bb",
            "cd6efc70139c435f8878136de94f6720",
            "ca4faa6b1d9b4bef8ed716e9af049c56",
            "677b9b7faa544f118464dccae98fcdc5",
            "ecfc6e388ea348e2b56b47edd3095d4a",
            "0ca91a12a7c2487abdbe492bf378ccf3",
            "bae516cc0861494d8bb12860b0ed966c",
            "7a7f04e0d79247e59fbdafff2d39248c",
            "ce9ae826a9d743d6a843f7fc4cb9b026",
            "78de0e52a8304e46894a040b7f6e2aad",
            "17aa5b327e60455593588d3e197e2f7c",
            "03d808e3867d4fe2912f3ac1ebffb09c"
          ]
        },
        "id": "K3XCWlbrCeX9",
        "outputId": "eb44315b-85ca-4672-c328-9645e9443196"
      },
      "source": [
        "processed_data = []\n",
        "for item in text_data:\n",
        "    title, recipe = item.split('|', 1)  # '|'で分割し、前後に格納\n",
        "    processed_data.append({'title': title.strip(),\n",
        "                            'recipe': recipe.strip(),\n",
        "                            'full_text': item.strip()})\n",
        "\n",
        "# 各項目のリストを辞書として整理\n",
        "processed_data_dict = {'title': [data['title'] for data in processed_data],\n",
        "                        'recipe': [data['recipe'] for data in processed_data],\n",
        "                        'full_text': [data['full_text'] for data in processed_data]\n",
        "                        }\n",
        "\n",
        "# 辞書形式でデータセットを作成\n",
        "trainset = HFDataset.from_dict(processed_data_dict)\n",
        "print(trainset)\n",
        "\n",
        "# Tokenizerを読み込む\n",
        "tokenizer = AutoTokenizer.from_pretrained(\"bert-base-uncased\")\n",
        "# SEPをEOS（文の終わり）として扱う\n",
        "tokenizer.eos_token_id = tokenizer.sep_token_id\n",
        "VOCAB_SIZE = tokenizer.vocab_size\n",
        "print(VOCAB_SIZE)\n",
        "\n",
        "# データセットをトークン化\n",
        "trainset = trainset.map(tokenize_and_shift, batched=True, fn_kwargs={'device': device, 'tokenizer': tokenizer})\n",
        "trainset = trainset.with_format(\"torch\")\n",
        "\n",
        "# データローダーの作成\n",
        "trainloader = DataLoader(\n",
        "    trainset,\n",
        "    batch_size=BATCH_SIZE,\n",
        "    shuffle=True,\n",
        "    pin_memory=True,\n",
        ")"
      ],
      "execution_count": 7,
      "outputs": [
        {
          "output_type": "stream",
          "name": "stdout",
          "text": [
            "Dataset({\n",
            "    features: ['title', 'recipe', 'full_text'],\n",
            "    num_rows: 20098\n",
            "})\n"
          ]
        },
        {
          "output_type": "stream",
          "name": "stderr",
          "text": [
            "/usr/local/lib/python3.10/dist-packages/huggingface_hub/utils/_auth.py:94: UserWarning: \n",
            "The secret `HF_TOKEN` does not exist in your Colab secrets.\n",
            "To authenticate with the Hugging Face Hub, create a token in your settings tab (https://huggingface.co/settings/tokens), set it as secret in your Google Colab and restart your session.\n",
            "You will be able to reuse this secret in all of your notebooks.\n",
            "Please note that authentication is recommended but still optional to access public models or datasets.\n",
            "  warnings.warn(\n"
          ]
        },
        {
          "output_type": "display_data",
          "data": {
            "text/plain": [
              "tokenizer_config.json:   0%|          | 0.00/48.0 [00:00<?, ?B/s]"
            ],
            "application/vnd.jupyter.widget-view+json": {
              "version_major": 2,
              "version_minor": 0,
              "model_id": "9f34d5904f3d4c4faef99a26be11d957"
            }
          },
          "metadata": {}
        },
        {
          "output_type": "display_data",
          "data": {
            "text/plain": [
              "config.json:   0%|          | 0.00/570 [00:00<?, ?B/s]"
            ],
            "application/vnd.jupyter.widget-view+json": {
              "version_major": 2,
              "version_minor": 0,
              "model_id": "97298aa283124f579733cb74d5692b1f"
            }
          },
          "metadata": {}
        },
        {
          "output_type": "display_data",
          "data": {
            "text/plain": [
              "vocab.txt:   0%|          | 0.00/232k [00:00<?, ?B/s]"
            ],
            "application/vnd.jupyter.widget-view+json": {
              "version_major": 2,
              "version_minor": 0,
              "model_id": "0aa4da57c42a45aca8eed258cd86d810"
            }
          },
          "metadata": {}
        },
        {
          "output_type": "display_data",
          "data": {
            "text/plain": [
              "tokenizer.json:   0%|          | 0.00/466k [00:00<?, ?B/s]"
            ],
            "application/vnd.jupyter.widget-view+json": {
              "version_major": 2,
              "version_minor": 0,
              "model_id": "934563e8be354b49bdb76e8fc2fb3266"
            }
          },
          "metadata": {}
        },
        {
          "output_type": "stream",
          "name": "stdout",
          "text": [
            "30522\n"
          ]
        },
        {
          "output_type": "display_data",
          "data": {
            "text/plain": [
              "Map:   0%|          | 0/20098 [00:00<?, ? examples/s]"
            ],
            "application/vnd.jupyter.widget-view+json": {
              "version_major": 2,
              "version_minor": 0,
              "model_id": "cd6efc70139c435f8878136de94f6720"
            }
          },
          "metadata": {}
        }
      ]
    },
    {
      "cell_type": "code",
      "metadata": {
        "source_hash": "5465f02a",
        "execution_start": 1732637182142,
        "execution_millis": 8,
        "execution_context_id": "73c9a910-3800-4031-aaf5-e2921d7a2e26",
        "cell_id": "58b75ab1371a465196719c32349f50d1",
        "deepnote_cell_type": "code",
        "colab": {
          "base_uri": "https://localhost:8080/"
        },
        "id": "H-rRomfrCeX9",
        "outputId": "8ecfd2f0-b5f0-4e37-8b62-f7999d042f7f"
      },
      "source": [
        "# データをロードして表示\n",
        "for batch in trainloader:\n",
        "    x_batch = batch[\"x\"]\n",
        "    y_batch = batch[\"y\"]\n",
        "    texts = batch[\"full_text\"][0]\n",
        "    print(\"x_batch:\", x_batch, x_batch.shape)\n",
        "    print(\"y_batch:\", y_batch, y_batch.shape)\n",
        "    print(texts)\n",
        "    break"
      ],
      "execution_count": 8,
      "outputs": [
        {
          "output_type": "stream",
          "name": "stdout",
          "text": [
            "x_batch: tensor([[17974,  2005, 21628,  ...,     0,     0,     0],\n",
            "        [17974,  2005, 24792,  ...,  5420,  7906,  1010],\n",
            "        [17974,  2005, 11968,  ...,     0,     0,     0],\n",
            "        ...,\n",
            "        [17974,  2005, 20548,  ...,     0,     0,     0],\n",
            "        [17974,  2005, 11840,  ..., 11840,  3659,  1012],\n",
            "        [17974,  2005,  3034,  ...,     0,     0,     0]]) torch.Size([32, 200])\n",
            "y_batch: tensor([[ 2005, 21628,  4014,  ...,     0,     0,     0],\n",
            "        [ 2005, 24792, 14684,  ...,  7906,  1010,  3139],\n",
            "        [ 2005, 11968,  7834,  ...,     0,     0,     0],\n",
            "        ...,\n",
            "        [ 2005, 20548, 11968,  ...,     0,     0,     0],\n",
            "        [ 2005, 11840,  1010,  ...,  3659,  1012,  3573],\n",
            "        [ 2005,  3034,  1064,  ...,     0,     0,     0]]) torch.Size([32, 200])\n",
            "Recipe for Tabil Spice Blend  | Finely grind coriander seeds, cumin seeds, caraway seeds, and crushed red pepper flakes in a spice mill. DO AHEAD: Can be made 1 month ahead. Store airtight at room temperature.[SEP]\n"
          ]
        }
      ]
    },
    {
      "cell_type": "markdown",
      "metadata": {
        "formattedRanges": [],
        "cell_id": "bb4f800f179549ea85ad308791d84b3e",
        "deepnote_cell_type": "text-cell-h2",
        "id": "99mLZl6mCeX9"
      },
      "source": [
        "## 4. LSTMモデルを作成する"
      ]
    },
    {
      "cell_type": "code",
      "metadata": {
        "source_hash": "1390d066",
        "execution_start": 1732637186213,
        "execution_millis": 1,
        "execution_context_id": "73c9a910-3800-4031-aaf5-e2921d7a2e26",
        "cell_id": "8f2a21afa0d7431bbb48e286c15eff16",
        "deepnote_cell_type": "code",
        "id": "Dt2yk837CeX9"
      },
      "source": [
        "class LSTMModel(PreTrainedModel):\n",
        "    def __init__(self, config, vocab_size, embedding_dim=256, n_units=512):\n",
        "        super().__init__(config)\n",
        "        self.embedding = nn.Embedding(num_embeddings=vocab_size, embedding_dim=embedding_dim, padding_idx=0)\n",
        "        self.lstm = nn.LSTM(embedding_dim, n_units, bidirectional=False, batch_first=True)\n",
        "        self.fc = nn.Linear(n_units, vocab_size)\n",
        "\n",
        "    def forward(self, input_ids, attention_mask=None, return_dict=False, token_type_ids=None):\n",
        "        x = self.embedding(input_ids)\n",
        "        x, _ = self.lstm(x)\n",
        "        x = self.fc(x)\n",
        "        if not return_dict:\n",
        "            return x\n",
        "        return CausalLMOutput(logits=x)\n",
        "\n",
        "    def prepare_inputs_for_generation(self, input_ids, **kwargs):\n",
        "        return {\"input_ids\": input_ids}"
      ],
      "execution_count": 9,
      "outputs": []
    },
    {
      "cell_type": "code",
      "metadata": {
        "source_hash": "3c544b06",
        "execution_start": 1732637187496,
        "execution_millis": 1446,
        "execution_context_id": "73c9a910-3800-4031-aaf5-e2921d7a2e26",
        "cell_id": "7e0e9002a94f4ef198f6e72350b3aab5",
        "deepnote_cell_type": "code",
        "colab": {
          "base_uri": "https://localhost:8080/"
        },
        "id": "mEeCZM3ZCeX9",
        "outputId": "42d0a43a-211b-40d3-bb6e-01ae8ef04bec"
      },
      "source": [
        "config = PretrainedConfig()\n",
        "config.is_decoder = True\n",
        "config.eos_token_id = tokenizer.eos_token_id\n",
        "\n",
        "model = LSTMModel(config=config, vocab_size=VOCAB_SIZE, embedding_dim=EMBEDDING_DIM, n_units=N_UNITS)\n",
        "print(model)\n",
        "torchinfo.summary(model.eval(), input_size=(32, MAX_LEN), dtypes=[torch.long])"
      ],
      "execution_count": 10,
      "outputs": [
        {
          "output_type": "stream",
          "name": "stderr",
          "text": [
            "LSTMModel has generative capabilities, as `prepare_inputs_for_generation` is explicitly overwritten. However, it doesn't directly inherit from `GenerationMixin`. From 👉v4.50👈 onwards, `PreTrainedModel` will NOT inherit from `GenerationMixin`, and this model will lose the ability to call `generate` and other related functions.\n",
            "  - If you're using `trust_remote_code=True`, you can get rid of this warning by loading the model with an auto class. See https://huggingface.co/docs/transformers/en/model_doc/auto#auto-classes\n",
            "  - If you are the owner of the model architecture code, please modify your model class such that it inherits from `GenerationMixin` (after `PreTrainedModel`, otherwise you'll get an exception).\n",
            "  - If you are not the owner of the model architecture class, please contact the model code owner to update it.\n"
          ]
        },
        {
          "output_type": "stream",
          "name": "stdout",
          "text": [
            "LSTMModel(\n",
            "  (embedding): Embedding(30522, 100, padding_idx=0)\n",
            "  (lstm): LSTM(100, 128, batch_first=True)\n",
            "  (fc): Linear(in_features=128, out_features=30522, bias=True)\n",
            ")\n"
          ]
        },
        {
          "output_type": "execute_result",
          "data": {
            "text/plain": [
              "==========================================================================================\n",
              "Layer (type:depth-idx)                   Output Shape              Param #\n",
              "==========================================================================================\n",
              "LSTMModel                                [32, 200, 30522]          --\n",
              "├─Embedding: 1-1                         [32, 200, 100]            3,052,200\n",
              "├─LSTM: 1-2                              [32, 200, 128]            117,760\n",
              "├─Linear: 1-3                            [32, 200, 30522]          3,937,338\n",
              "==========================================================================================\n",
              "Total params: 7,107,298\n",
              "Trainable params: 7,107,298\n",
              "Non-trainable params: 0\n",
              "Total mult-adds (M): 977.33\n",
              "==========================================================================================\n",
              "Input size (MB): 0.05\n",
              "Forward/backward pass size (MB): 1574.40\n",
              "Params size (MB): 28.43\n",
              "Estimated Total Size (MB): 1602.88\n",
              "=========================================================================================="
            ]
          },
          "metadata": {},
          "execution_count": 10
        }
      ]
    },
    {
      "cell_type": "markdown",
      "metadata": {
        "formattedRanges": [],
        "cell_id": "bd9b1778cb8f40c39a9a09426aaef4d4",
        "deepnote_cell_type": "text-cell-h2",
        "id": "oiwGQp3sCeX9"
      },
      "source": [
        "## 5. LSTMモデルを学習する"
      ]
    },
    {
      "cell_type": "code",
      "metadata": {
        "source_hash": "a5f0e7f6",
        "execution_start": 1732637193166,
        "execution_millis": 1,
        "execution_context_id": "73c9a910-3800-4031-aaf5-e2921d7a2e26",
        "cell_id": "c10af0b7dfc54dcaa613a7c84c3b9655",
        "deepnote_cell_type": "code",
        "id": "WGy_5rYvCeX-"
      },
      "source": [
        "criterion = nn.CrossEntropyLoss(reduction=\"mean\", ignore_index=0)\n",
        "optimizer = torch.optim.Adam(model.parameters(), lr=0.001)"
      ],
      "execution_count": 11,
      "outputs": []
    },
    {
      "cell_type": "markdown",
      "source": [
        "### 学習する場合は以下(GPU推奨)"
      ],
      "metadata": {
        "id": "pn8wCHdhFgdh"
      }
    },
    {
      "cell_type": "code",
      "metadata": {
        "source_hash": "cfa25984",
        "execution_start": 1732630303448,
        "execution_millis": 33565,
        "execution_context_id": "ea7ebebd-bd1c-4da5-85f3-1a0a5b851fb6",
        "cell_id": "9c15c7e47d874544a8739c2f75724f71",
        "deepnote_cell_type": "code",
        "id": "OHhnnVXPCeX-"
      },
      "source": [
        "# model = model.to(device)\n",
        "# model.train()\n",
        "# metrics_per_epoch = {\n",
        "#     \"loss\": [],\n",
        "# }\n",
        "# for epoch in range(EPOCHS):\n",
        "#     epoch_metrics = {metric: 0 for metric in metrics_per_epoch}\n",
        "#     batch_count = 0\n",
        "\n",
        "#     for i, data in enumerate(trainloader, 0):\n",
        "#         inputs, labels = data[\"x\"], data[\"y\"]\n",
        "#         inputs, labels = inputs.to(device), labels.to(device)\n",
        "#         optimizer.zero_grad()\n",
        "#         outputs = model(inputs, return_dict=False)\n",
        "#         loss = criterion(outputs.permute(0, 2, 1), labels)  # 元の入力と出力を比較してlossを計算\n",
        "#         loss.backward()  # backpropagation\n",
        "#         optimizer.step()  # モデルのパラメータ更新\n",
        "\n",
        "#         for key in epoch_metrics:\n",
        "#             epoch_metrics[key] += loss.item()\n",
        "#         batch_count += 1\n",
        "\n",
        "#     for key in epoch_metrics:\n",
        "#         epoch_metrics[key] /= batch_count\n",
        "#         metrics_per_epoch[key].append(epoch_metrics[key])\n",
        "\n",
        "#     # epoch終了時点での誤算の平均値\n",
        "#     print(\"Epoch {}:\".format(epoch + 1), epoch_metrics)"
      ],
      "execution_count": 12,
      "outputs": []
    },
    {
      "cell_type": "code",
      "source": [
        "# # modelを保存\n",
        "# save_path = f\"./models/lstm_model_epoch_{EPOCHS}.pth\"\n",
        "# save_model(model, save_path)\n",
        "\n",
        "# # metricsを保存\n",
        "# metrics_save_path = f\"./metrics/lstm_metrics.json\"\n",
        "# save_metrics(metrics_per_epoch=metrics_per_epoch, filename=metrics_save_path)"
      ],
      "metadata": {
        "id": "FQ8B3y6IFOuB"
      },
      "execution_count": 13,
      "outputs": []
    },
    {
      "cell_type": "code",
      "metadata": {
        "source_hash": "a7adcf13",
        "execution_start": 1732637194975,
        "execution_millis": 822,
        "execution_context_id": "73c9a910-3800-4031-aaf5-e2921d7a2e26",
        "cell_id": "e6434e8d1f3b44bea9c91547ec5dcdc1",
        "deepnote_cell_type": "code",
        "colab": {
          "base_uri": "https://localhost:8080/"
        },
        "id": "kwX_rXgHCeX-",
        "outputId": "80b0ef5a-e906-49cc-f1a1-f94eefef801f"
      },
      "source": [
        "import urllib.request\n",
        "\n",
        "# モデルのURL\n",
        "model_url = \"https://github.com/sol-sun/Generative_Deep_Learning_2nd_Pytorch/raw/main/05_autoregressive/models/lstm_model_epoch_25.pth\"\n",
        "local_model_path = \"lstm_model_epoch_25.pth\"\n",
        "\n",
        "# モデルをダウンロード\n",
        "urllib.request.urlretrieve(model_url, local_model_path)\n",
        "\n",
        "# モデルをデバイスに移動して読み込み\n",
        "model = load_model(model, local_model_path, device)"
      ],
      "execution_count": 14,
      "outputs": [
        {
          "output_type": "stream",
          "name": "stdout",
          "text": [
            "Model loaded from lstm_model_epoch_25.pth\n"
          ]
        }
      ]
    },
    {
      "cell_type": "markdown",
      "metadata": {
        "formattedRanges": [],
        "cell_id": "c3a0c3f8c7cb4d1abaa82d3c0480d5df",
        "deepnote_cell_type": "text-cell-h2",
        "id": "zL47DU9NCeX-"
      },
      "source": [
        "## 6. 学習済みLSTMモデルを用いたテキストの生成"
      ]
    },
    {
      "cell_type": "code",
      "metadata": {
        "source_hash": "1e19cc09",
        "execution_start": 1732637333568,
        "execution_millis": 0,
        "execution_context_id": "73c9a910-3800-4031-aaf5-e2921d7a2e26",
        "cell_id": "1e89c28165e146bba54713ebff11046c",
        "deepnote_cell_type": "code",
        "id": "y3Om8w6iCeX-"
      },
      "source": [
        "from pprint import pprint\n",
        "\n",
        "MODEL_FOR_CAUSAL_LM_MAPPING_NAMES[\"lstm\"] = model.__class__.__name__  # \"LSTMModel\"\n",
        "\n",
        "generator_sample = pipeline(\n",
        "   'text-generation',\n",
        "    model = model,\n",
        "    temperature = 1.0,\n",
        "    # repetition_penalty=2.0\n",
        "    device=device,\n",
        "    tokenizer=tokenizer, # トークナイザ\n",
        "    max_new_tokens=80, # 生成する最大トークン数\n",
        "    do_sample=True, # 生成をサンプル\n",
        "    num_return_sequences=3, # 生成するシーケンスの数\n",
        "    add_special_tokens=False # 入力テキストの前後に特殊トークンを追加しない\n",
        "    )\n",
        "\n",
        "generator_deterministic = pipeline(\n",
        "   'text-generation',\n",
        "    model = model,\n",
        "    device=device,\n",
        "    temperature = 0.05,\n",
        "    # repetition_penalty=2.0\n",
        "    tokenizer=tokenizer, # トークナイザ\n",
        "    max_new_tokens=80, # 生成する最大トークン数\n",
        "    do_sample=True, # 生成をサンプル\n",
        "    num_return_sequences=3, # 生成するシーケンスの数\n",
        "    add_special_tokens=False # 入力テキストの前後に特殊トークンを追加しない\n",
        "    )"
      ],
      "execution_count": 15,
      "outputs": []
    },
    {
      "cell_type": "code",
      "metadata": {
        "source_hash": "f7e9bdca",
        "execution_start": 1732637217786,
        "execution_millis": 4242,
        "execution_context_id": "73c9a910-3800-4031-aaf5-e2921d7a2e26",
        "cell_id": "6653db564139475ea9978108a2bb4d57",
        "deepnote_cell_type": "code",
        "colab": {
          "base_uri": "https://localhost:8080/"
        },
        "id": "DdodYhkhCeX-",
        "outputId": "3603da8c-079c-4cb1-e16e-a6e7b4adb323"
      },
      "source": [
        "# Temperature = 1.0\n",
        "print(\"Temperature = 1.0\")\n",
        "pprint(generator_sample(\"recipe for potato salad | \"))"
      ],
      "execution_count": 16,
      "outputs": [
        {
          "output_type": "stream",
          "name": "stdout",
          "text": [
            "Temperature = 1.0\n",
            "[{'generated_text': 'recipe for potato salad |  soak leeks in reserved garlic '\n",
            "                    'and set aside. ( the stems should look cooled completely '\n",
            "                    ') and cool. rinse well and pat dry. fill a large heavy '\n",
            "                    'skillet with cumin, then add butter ; cook 3 to 5 seconds '\n",
            "                    'to a well - seasoned 4 tablespoons scalded coconut oil or '\n",
            "                    'with enough cold water to cover by 2 inches. cook, '\n",
            "                    'covered with lid, until'},\n",
            " {'generated_text': 'recipe for potato salad |  whisk together oil, 1 / 4 '\n",
            "                    'teaspoon sesame seeds, 1 / 2 tsp. salt, and olive oil in '\n",
            "                    'a medium bowl. preheat oven to 400°f. mix 1 / 3 cup '\n",
            "                    'butter, then 1 / 4 teaspoon salt in spice grinder and '\n",
            "                    'grind with salt until a few lumps are well browned. '\n",
            "                    'transfer to a large bowl. repeat'},\n",
            " {'generated_text': 'recipe for potato salad |  stir parsley. cover and chill. '\n",
            "                    'bring to room temperature before serving.'}]\n"
          ]
        }
      ]
    },
    {
      "cell_type": "code",
      "metadata": {
        "source_hash": "60c90435",
        "execution_start": 1732637342346,
        "execution_millis": 3283,
        "execution_context_id": "73c9a910-3800-4031-aaf5-e2921d7a2e26",
        "cell_id": "1873cd8f847e4cc1bfbfe89fed8997d8",
        "deepnote_cell_type": "code",
        "colab": {
          "base_uri": "https://localhost:8080/"
        },
        "id": "o4-HbKyPCeX-",
        "outputId": "483a5a71-f7c5-4afe-ae5a-e212438c6e18"
      },
      "source": [
        "# Temperature = 0.05\n",
        "print(\"Temperature = 0.05\")\n",
        "pprint(generator_deterministic(\"recipe for potato salad | \"))"
      ],
      "execution_count": 17,
      "outputs": [
        {
          "output_type": "stream",
          "name": "stdout",
          "text": [
            "Temperature = 0.05\n",
            "[{'generated_text': 'recipe for potato salad |  whisk together vinegar, '\n",
            "                    'mustard, and salt in a small bowl. add oil and toss to '\n",
            "                    'coat. season with salt and pepper.'},\n",
            " {'generated_text': 'recipe for potato salad |  whisk together vinegar, sugar, '\n",
            "                    'and salt in a food processor until finely chopped. add '\n",
            "                    'oil and pulse until finely chopped. add garlic and pulse '\n",
            "                    'until finely chopped. add garlic and pulse until finely '\n",
            "                    'chopped. add garlic and pulse until finely chopped. add '\n",
            "                    'garlic and pulse until finely chopped. add garlic and '\n",
            "                    'pulse until finely chopped. add garlic and pulse until '\n",
            "                    'finely chopped. add garlic and pulse until finely'},\n",
            " {'generated_text': 'recipe for potato salad |  whisk together vinegar, sugar, '\n",
            "                    'and salt in a food processor until finely chopped. add '\n",
            "                    'oil and pulse until finely chopped. add garlic and pulse '\n",
            "                    'until finely chopped. add garlic and pulse until finely '\n",
            "                    'chopped. add garlic and pulse until finely chopped. add '\n",
            "                    'garlic and pulse until finely chopped. add garlic and '\n",
            "                    'pulse until finely chopped. add garlic and pulse until '\n",
            "                    'finely chopped. add garlic and pulse until finely'}]\n"
          ]
        }
      ]
    },
    {
      "cell_type": "code",
      "source": [],
      "metadata": {
        "id": "azZ9msDKHXqi"
      },
      "execution_count": null,
      "outputs": []
    }
  ],
  "nbformat": 4,
  "nbformat_minor": 0,
  "metadata": {
    "deepnote_persisted_session": {
      "createdAt": "2024-11-26T16:04:05.438Z"
    },
    "deepnote_notebook_id": "3b3b691c8ab54c6a9026a5b70ba08185",
    "colab": {
      "provenance": [],
      "include_colab_link": true
    },
    "language_info": {
      "name": "python"
    },
    "kernelspec": {
      "name": "python3",
      "display_name": "Python 3"
    },
    "widgets": {
      "application/vnd.jupyter.widget-state+json": {
        "9f34d5904f3d4c4faef99a26be11d957": {
          "model_module": "@jupyter-widgets/controls",
          "model_name": "HBoxModel",
          "model_module_version": "1.5.0",
          "state": {
            "_dom_classes": [],
            "_model_module": "@jupyter-widgets/controls",
            "_model_module_version": "1.5.0",
            "_model_name": "HBoxModel",
            "_view_count": null,
            "_view_module": "@jupyter-widgets/controls",
            "_view_module_version": "1.5.0",
            "_view_name": "HBoxView",
            "box_style": "",
            "children": [
              "IPY_MODEL_9df165195bb641298a7c6f0aa07dced1",
              "IPY_MODEL_994c89f5b29f4227b23f8cc4fd81b816",
              "IPY_MODEL_0fb662e0f8d843eaa8b6fcf551ff66e7"
            ],
            "layout": "IPY_MODEL_94d82f76c03043c1839fc55ccdfc7020"
          }
        },
        "9df165195bb641298a7c6f0aa07dced1": {
          "model_module": "@jupyter-widgets/controls",
          "model_name": "HTMLModel",
          "model_module_version": "1.5.0",
          "state": {
            "_dom_classes": [],
            "_model_module": "@jupyter-widgets/controls",
            "_model_module_version": "1.5.0",
            "_model_name": "HTMLModel",
            "_view_count": null,
            "_view_module": "@jupyter-widgets/controls",
            "_view_module_version": "1.5.0",
            "_view_name": "HTMLView",
            "description": "",
            "description_tooltip": null,
            "layout": "IPY_MODEL_f082751741664332acedde824a59ad77",
            "placeholder": "​",
            "style": "IPY_MODEL_18a61d3e274b48e590e38252a3ac1147",
            "value": "tokenizer_config.json: 100%"
          }
        },
        "994c89f5b29f4227b23f8cc4fd81b816": {
          "model_module": "@jupyter-widgets/controls",
          "model_name": "FloatProgressModel",
          "model_module_version": "1.5.0",
          "state": {
            "_dom_classes": [],
            "_model_module": "@jupyter-widgets/controls",
            "_model_module_version": "1.5.0",
            "_model_name": "FloatProgressModel",
            "_view_count": null,
            "_view_module": "@jupyter-widgets/controls",
            "_view_module_version": "1.5.0",
            "_view_name": "ProgressView",
            "bar_style": "success",
            "description": "",
            "description_tooltip": null,
            "layout": "IPY_MODEL_f8edf2d03a044474931ae71027a1032c",
            "max": 48,
            "min": 0,
            "orientation": "horizontal",
            "style": "IPY_MODEL_8cc4b6624c534edc818001d67f05955b",
            "value": 48
          }
        },
        "0fb662e0f8d843eaa8b6fcf551ff66e7": {
          "model_module": "@jupyter-widgets/controls",
          "model_name": "HTMLModel",
          "model_module_version": "1.5.0",
          "state": {
            "_dom_classes": [],
            "_model_module": "@jupyter-widgets/controls",
            "_model_module_version": "1.5.0",
            "_model_name": "HTMLModel",
            "_view_count": null,
            "_view_module": "@jupyter-widgets/controls",
            "_view_module_version": "1.5.0",
            "_view_name": "HTMLView",
            "description": "",
            "description_tooltip": null,
            "layout": "IPY_MODEL_91523e6e8b0c40ee8312a423ca7c684c",
            "placeholder": "​",
            "style": "IPY_MODEL_e75c45fe2ff6498f9494b4d9d5092f81",
            "value": " 48.0/48.0 [00:00&lt;00:00, 2.80kB/s]"
          }
        },
        "94d82f76c03043c1839fc55ccdfc7020": {
          "model_module": "@jupyter-widgets/base",
          "model_name": "LayoutModel",
          "model_module_version": "1.2.0",
          "state": {
            "_model_module": "@jupyter-widgets/base",
            "_model_module_version": "1.2.0",
            "_model_name": "LayoutModel",
            "_view_count": null,
            "_view_module": "@jupyter-widgets/base",
            "_view_module_version": "1.2.0",
            "_view_name": "LayoutView",
            "align_content": null,
            "align_items": null,
            "align_self": null,
            "border": null,
            "bottom": null,
            "display": null,
            "flex": null,
            "flex_flow": null,
            "grid_area": null,
            "grid_auto_columns": null,
            "grid_auto_flow": null,
            "grid_auto_rows": null,
            "grid_column": null,
            "grid_gap": null,
            "grid_row": null,
            "grid_template_areas": null,
            "grid_template_columns": null,
            "grid_template_rows": null,
            "height": null,
            "justify_content": null,
            "justify_items": null,
            "left": null,
            "margin": null,
            "max_height": null,
            "max_width": null,
            "min_height": null,
            "min_width": null,
            "object_fit": null,
            "object_position": null,
            "order": null,
            "overflow": null,
            "overflow_x": null,
            "overflow_y": null,
            "padding": null,
            "right": null,
            "top": null,
            "visibility": null,
            "width": null
          }
        },
        "f082751741664332acedde824a59ad77": {
          "model_module": "@jupyter-widgets/base",
          "model_name": "LayoutModel",
          "model_module_version": "1.2.0",
          "state": {
            "_model_module": "@jupyter-widgets/base",
            "_model_module_version": "1.2.0",
            "_model_name": "LayoutModel",
            "_view_count": null,
            "_view_module": "@jupyter-widgets/base",
            "_view_module_version": "1.2.0",
            "_view_name": "LayoutView",
            "align_content": null,
            "align_items": null,
            "align_self": null,
            "border": null,
            "bottom": null,
            "display": null,
            "flex": null,
            "flex_flow": null,
            "grid_area": null,
            "grid_auto_columns": null,
            "grid_auto_flow": null,
            "grid_auto_rows": null,
            "grid_column": null,
            "grid_gap": null,
            "grid_row": null,
            "grid_template_areas": null,
            "grid_template_columns": null,
            "grid_template_rows": null,
            "height": null,
            "justify_content": null,
            "justify_items": null,
            "left": null,
            "margin": null,
            "max_height": null,
            "max_width": null,
            "min_height": null,
            "min_width": null,
            "object_fit": null,
            "object_position": null,
            "order": null,
            "overflow": null,
            "overflow_x": null,
            "overflow_y": null,
            "padding": null,
            "right": null,
            "top": null,
            "visibility": null,
            "width": null
          }
        },
        "18a61d3e274b48e590e38252a3ac1147": {
          "model_module": "@jupyter-widgets/controls",
          "model_name": "DescriptionStyleModel",
          "model_module_version": "1.5.0",
          "state": {
            "_model_module": "@jupyter-widgets/controls",
            "_model_module_version": "1.5.0",
            "_model_name": "DescriptionStyleModel",
            "_view_count": null,
            "_view_module": "@jupyter-widgets/base",
            "_view_module_version": "1.2.0",
            "_view_name": "StyleView",
            "description_width": ""
          }
        },
        "f8edf2d03a044474931ae71027a1032c": {
          "model_module": "@jupyter-widgets/base",
          "model_name": "LayoutModel",
          "model_module_version": "1.2.0",
          "state": {
            "_model_module": "@jupyter-widgets/base",
            "_model_module_version": "1.2.0",
            "_model_name": "LayoutModel",
            "_view_count": null,
            "_view_module": "@jupyter-widgets/base",
            "_view_module_version": "1.2.0",
            "_view_name": "LayoutView",
            "align_content": null,
            "align_items": null,
            "align_self": null,
            "border": null,
            "bottom": null,
            "display": null,
            "flex": null,
            "flex_flow": null,
            "grid_area": null,
            "grid_auto_columns": null,
            "grid_auto_flow": null,
            "grid_auto_rows": null,
            "grid_column": null,
            "grid_gap": null,
            "grid_row": null,
            "grid_template_areas": null,
            "grid_template_columns": null,
            "grid_template_rows": null,
            "height": null,
            "justify_content": null,
            "justify_items": null,
            "left": null,
            "margin": null,
            "max_height": null,
            "max_width": null,
            "min_height": null,
            "min_width": null,
            "object_fit": null,
            "object_position": null,
            "order": null,
            "overflow": null,
            "overflow_x": null,
            "overflow_y": null,
            "padding": null,
            "right": null,
            "top": null,
            "visibility": null,
            "width": null
          }
        },
        "8cc4b6624c534edc818001d67f05955b": {
          "model_module": "@jupyter-widgets/controls",
          "model_name": "ProgressStyleModel",
          "model_module_version": "1.5.0",
          "state": {
            "_model_module": "@jupyter-widgets/controls",
            "_model_module_version": "1.5.0",
            "_model_name": "ProgressStyleModel",
            "_view_count": null,
            "_view_module": "@jupyter-widgets/base",
            "_view_module_version": "1.2.0",
            "_view_name": "StyleView",
            "bar_color": null,
            "description_width": ""
          }
        },
        "91523e6e8b0c40ee8312a423ca7c684c": {
          "model_module": "@jupyter-widgets/base",
          "model_name": "LayoutModel",
          "model_module_version": "1.2.0",
          "state": {
            "_model_module": "@jupyter-widgets/base",
            "_model_module_version": "1.2.0",
            "_model_name": "LayoutModel",
            "_view_count": null,
            "_view_module": "@jupyter-widgets/base",
            "_view_module_version": "1.2.0",
            "_view_name": "LayoutView",
            "align_content": null,
            "align_items": null,
            "align_self": null,
            "border": null,
            "bottom": null,
            "display": null,
            "flex": null,
            "flex_flow": null,
            "grid_area": null,
            "grid_auto_columns": null,
            "grid_auto_flow": null,
            "grid_auto_rows": null,
            "grid_column": null,
            "grid_gap": null,
            "grid_row": null,
            "grid_template_areas": null,
            "grid_template_columns": null,
            "grid_template_rows": null,
            "height": null,
            "justify_content": null,
            "justify_items": null,
            "left": null,
            "margin": null,
            "max_height": null,
            "max_width": null,
            "min_height": null,
            "min_width": null,
            "object_fit": null,
            "object_position": null,
            "order": null,
            "overflow": null,
            "overflow_x": null,
            "overflow_y": null,
            "padding": null,
            "right": null,
            "top": null,
            "visibility": null,
            "width": null
          }
        },
        "e75c45fe2ff6498f9494b4d9d5092f81": {
          "model_module": "@jupyter-widgets/controls",
          "model_name": "DescriptionStyleModel",
          "model_module_version": "1.5.0",
          "state": {
            "_model_module": "@jupyter-widgets/controls",
            "_model_module_version": "1.5.0",
            "_model_name": "DescriptionStyleModel",
            "_view_count": null,
            "_view_module": "@jupyter-widgets/base",
            "_view_module_version": "1.2.0",
            "_view_name": "StyleView",
            "description_width": ""
          }
        },
        "97298aa283124f579733cb74d5692b1f": {
          "model_module": "@jupyter-widgets/controls",
          "model_name": "HBoxModel",
          "model_module_version": "1.5.0",
          "state": {
            "_dom_classes": [],
            "_model_module": "@jupyter-widgets/controls",
            "_model_module_version": "1.5.0",
            "_model_name": "HBoxModel",
            "_view_count": null,
            "_view_module": "@jupyter-widgets/controls",
            "_view_module_version": "1.5.0",
            "_view_name": "HBoxView",
            "box_style": "",
            "children": [
              "IPY_MODEL_acac0019c94c421eb9309540c3164ccf",
              "IPY_MODEL_affedab6ae784bd79322296baa71269c",
              "IPY_MODEL_08f78118161b4180b576b3e9b6a04d1c"
            ],
            "layout": "IPY_MODEL_866260c4c8bb4a3e88b2ea703ec7b7d2"
          }
        },
        "acac0019c94c421eb9309540c3164ccf": {
          "model_module": "@jupyter-widgets/controls",
          "model_name": "HTMLModel",
          "model_module_version": "1.5.0",
          "state": {
            "_dom_classes": [],
            "_model_module": "@jupyter-widgets/controls",
            "_model_module_version": "1.5.0",
            "_model_name": "HTMLModel",
            "_view_count": null,
            "_view_module": "@jupyter-widgets/controls",
            "_view_module_version": "1.5.0",
            "_view_name": "HTMLView",
            "description": "",
            "description_tooltip": null,
            "layout": "IPY_MODEL_e57175b8d4574722862527980f857430",
            "placeholder": "​",
            "style": "IPY_MODEL_bd6be5a5cfae4450bd5dcd80a553ff1c",
            "value": "config.json: 100%"
          }
        },
        "affedab6ae784bd79322296baa71269c": {
          "model_module": "@jupyter-widgets/controls",
          "model_name": "FloatProgressModel",
          "model_module_version": "1.5.0",
          "state": {
            "_dom_classes": [],
            "_model_module": "@jupyter-widgets/controls",
            "_model_module_version": "1.5.0",
            "_model_name": "FloatProgressModel",
            "_view_count": null,
            "_view_module": "@jupyter-widgets/controls",
            "_view_module_version": "1.5.0",
            "_view_name": "ProgressView",
            "bar_style": "success",
            "description": "",
            "description_tooltip": null,
            "layout": "IPY_MODEL_3ae1195237fd4f7f926d167755e25679",
            "max": 570,
            "min": 0,
            "orientation": "horizontal",
            "style": "IPY_MODEL_022a19ec4bee48989186d8cc49dbea5c",
            "value": 570
          }
        },
        "08f78118161b4180b576b3e9b6a04d1c": {
          "model_module": "@jupyter-widgets/controls",
          "model_name": "HTMLModel",
          "model_module_version": "1.5.0",
          "state": {
            "_dom_classes": [],
            "_model_module": "@jupyter-widgets/controls",
            "_model_module_version": "1.5.0",
            "_model_name": "HTMLModel",
            "_view_count": null,
            "_view_module": "@jupyter-widgets/controls",
            "_view_module_version": "1.5.0",
            "_view_name": "HTMLView",
            "description": "",
            "description_tooltip": null,
            "layout": "IPY_MODEL_b64861bcadf946f0a3a7d95ca553f0a7",
            "placeholder": "​",
            "style": "IPY_MODEL_774f5264ac9c478a96ceeb94ce9fb157",
            "value": " 570/570 [00:00&lt;00:00, 27.7kB/s]"
          }
        },
        "866260c4c8bb4a3e88b2ea703ec7b7d2": {
          "model_module": "@jupyter-widgets/base",
          "model_name": "LayoutModel",
          "model_module_version": "1.2.0",
          "state": {
            "_model_module": "@jupyter-widgets/base",
            "_model_module_version": "1.2.0",
            "_model_name": "LayoutModel",
            "_view_count": null,
            "_view_module": "@jupyter-widgets/base",
            "_view_module_version": "1.2.0",
            "_view_name": "LayoutView",
            "align_content": null,
            "align_items": null,
            "align_self": null,
            "border": null,
            "bottom": null,
            "display": null,
            "flex": null,
            "flex_flow": null,
            "grid_area": null,
            "grid_auto_columns": null,
            "grid_auto_flow": null,
            "grid_auto_rows": null,
            "grid_column": null,
            "grid_gap": null,
            "grid_row": null,
            "grid_template_areas": null,
            "grid_template_columns": null,
            "grid_template_rows": null,
            "height": null,
            "justify_content": null,
            "justify_items": null,
            "left": null,
            "margin": null,
            "max_height": null,
            "max_width": null,
            "min_height": null,
            "min_width": null,
            "object_fit": null,
            "object_position": null,
            "order": null,
            "overflow": null,
            "overflow_x": null,
            "overflow_y": null,
            "padding": null,
            "right": null,
            "top": null,
            "visibility": null,
            "width": null
          }
        },
        "e57175b8d4574722862527980f857430": {
          "model_module": "@jupyter-widgets/base",
          "model_name": "LayoutModel",
          "model_module_version": "1.2.0",
          "state": {
            "_model_module": "@jupyter-widgets/base",
            "_model_module_version": "1.2.0",
            "_model_name": "LayoutModel",
            "_view_count": null,
            "_view_module": "@jupyter-widgets/base",
            "_view_module_version": "1.2.0",
            "_view_name": "LayoutView",
            "align_content": null,
            "align_items": null,
            "align_self": null,
            "border": null,
            "bottom": null,
            "display": null,
            "flex": null,
            "flex_flow": null,
            "grid_area": null,
            "grid_auto_columns": null,
            "grid_auto_flow": null,
            "grid_auto_rows": null,
            "grid_column": null,
            "grid_gap": null,
            "grid_row": null,
            "grid_template_areas": null,
            "grid_template_columns": null,
            "grid_template_rows": null,
            "height": null,
            "justify_content": null,
            "justify_items": null,
            "left": null,
            "margin": null,
            "max_height": null,
            "max_width": null,
            "min_height": null,
            "min_width": null,
            "object_fit": null,
            "object_position": null,
            "order": null,
            "overflow": null,
            "overflow_x": null,
            "overflow_y": null,
            "padding": null,
            "right": null,
            "top": null,
            "visibility": null,
            "width": null
          }
        },
        "bd6be5a5cfae4450bd5dcd80a553ff1c": {
          "model_module": "@jupyter-widgets/controls",
          "model_name": "DescriptionStyleModel",
          "model_module_version": "1.5.0",
          "state": {
            "_model_module": "@jupyter-widgets/controls",
            "_model_module_version": "1.5.0",
            "_model_name": "DescriptionStyleModel",
            "_view_count": null,
            "_view_module": "@jupyter-widgets/base",
            "_view_module_version": "1.2.0",
            "_view_name": "StyleView",
            "description_width": ""
          }
        },
        "3ae1195237fd4f7f926d167755e25679": {
          "model_module": "@jupyter-widgets/base",
          "model_name": "LayoutModel",
          "model_module_version": "1.2.0",
          "state": {
            "_model_module": "@jupyter-widgets/base",
            "_model_module_version": "1.2.0",
            "_model_name": "LayoutModel",
            "_view_count": null,
            "_view_module": "@jupyter-widgets/base",
            "_view_module_version": "1.2.0",
            "_view_name": "LayoutView",
            "align_content": null,
            "align_items": null,
            "align_self": null,
            "border": null,
            "bottom": null,
            "display": null,
            "flex": null,
            "flex_flow": null,
            "grid_area": null,
            "grid_auto_columns": null,
            "grid_auto_flow": null,
            "grid_auto_rows": null,
            "grid_column": null,
            "grid_gap": null,
            "grid_row": null,
            "grid_template_areas": null,
            "grid_template_columns": null,
            "grid_template_rows": null,
            "height": null,
            "justify_content": null,
            "justify_items": null,
            "left": null,
            "margin": null,
            "max_height": null,
            "max_width": null,
            "min_height": null,
            "min_width": null,
            "object_fit": null,
            "object_position": null,
            "order": null,
            "overflow": null,
            "overflow_x": null,
            "overflow_y": null,
            "padding": null,
            "right": null,
            "top": null,
            "visibility": null,
            "width": null
          }
        },
        "022a19ec4bee48989186d8cc49dbea5c": {
          "model_module": "@jupyter-widgets/controls",
          "model_name": "ProgressStyleModel",
          "model_module_version": "1.5.0",
          "state": {
            "_model_module": "@jupyter-widgets/controls",
            "_model_module_version": "1.5.0",
            "_model_name": "ProgressStyleModel",
            "_view_count": null,
            "_view_module": "@jupyter-widgets/base",
            "_view_module_version": "1.2.0",
            "_view_name": "StyleView",
            "bar_color": null,
            "description_width": ""
          }
        },
        "b64861bcadf946f0a3a7d95ca553f0a7": {
          "model_module": "@jupyter-widgets/base",
          "model_name": "LayoutModel",
          "model_module_version": "1.2.0",
          "state": {
            "_model_module": "@jupyter-widgets/base",
            "_model_module_version": "1.2.0",
            "_model_name": "LayoutModel",
            "_view_count": null,
            "_view_module": "@jupyter-widgets/base",
            "_view_module_version": "1.2.0",
            "_view_name": "LayoutView",
            "align_content": null,
            "align_items": null,
            "align_self": null,
            "border": null,
            "bottom": null,
            "display": null,
            "flex": null,
            "flex_flow": null,
            "grid_area": null,
            "grid_auto_columns": null,
            "grid_auto_flow": null,
            "grid_auto_rows": null,
            "grid_column": null,
            "grid_gap": null,
            "grid_row": null,
            "grid_template_areas": null,
            "grid_template_columns": null,
            "grid_template_rows": null,
            "height": null,
            "justify_content": null,
            "justify_items": null,
            "left": null,
            "margin": null,
            "max_height": null,
            "max_width": null,
            "min_height": null,
            "min_width": null,
            "object_fit": null,
            "object_position": null,
            "order": null,
            "overflow": null,
            "overflow_x": null,
            "overflow_y": null,
            "padding": null,
            "right": null,
            "top": null,
            "visibility": null,
            "width": null
          }
        },
        "774f5264ac9c478a96ceeb94ce9fb157": {
          "model_module": "@jupyter-widgets/controls",
          "model_name": "DescriptionStyleModel",
          "model_module_version": "1.5.0",
          "state": {
            "_model_module": "@jupyter-widgets/controls",
            "_model_module_version": "1.5.0",
            "_model_name": "DescriptionStyleModel",
            "_view_count": null,
            "_view_module": "@jupyter-widgets/base",
            "_view_module_version": "1.2.0",
            "_view_name": "StyleView",
            "description_width": ""
          }
        },
        "0aa4da57c42a45aca8eed258cd86d810": {
          "model_module": "@jupyter-widgets/controls",
          "model_name": "HBoxModel",
          "model_module_version": "1.5.0",
          "state": {
            "_dom_classes": [],
            "_model_module": "@jupyter-widgets/controls",
            "_model_module_version": "1.5.0",
            "_model_name": "HBoxModel",
            "_view_count": null,
            "_view_module": "@jupyter-widgets/controls",
            "_view_module_version": "1.5.0",
            "_view_name": "HBoxView",
            "box_style": "",
            "children": [
              "IPY_MODEL_a48d9a9cd6274baf9e95f886b9e1c81e",
              "IPY_MODEL_07911624ae63404cbddafe1e9f919ce5",
              "IPY_MODEL_8fbf78bd56df45859e1ed0a7549705a5"
            ],
            "layout": "IPY_MODEL_8dabd3c2408a4cb7a9d157d7098989d7"
          }
        },
        "a48d9a9cd6274baf9e95f886b9e1c81e": {
          "model_module": "@jupyter-widgets/controls",
          "model_name": "HTMLModel",
          "model_module_version": "1.5.0",
          "state": {
            "_dom_classes": [],
            "_model_module": "@jupyter-widgets/controls",
            "_model_module_version": "1.5.0",
            "_model_name": "HTMLModel",
            "_view_count": null,
            "_view_module": "@jupyter-widgets/controls",
            "_view_module_version": "1.5.0",
            "_view_name": "HTMLView",
            "description": "",
            "description_tooltip": null,
            "layout": "IPY_MODEL_58e33d8f024545f9a46abb2a7081ba75",
            "placeholder": "​",
            "style": "IPY_MODEL_8f04e496e20845dfaecb4bd051708614",
            "value": "vocab.txt: 100%"
          }
        },
        "07911624ae63404cbddafe1e9f919ce5": {
          "model_module": "@jupyter-widgets/controls",
          "model_name": "FloatProgressModel",
          "model_module_version": "1.5.0",
          "state": {
            "_dom_classes": [],
            "_model_module": "@jupyter-widgets/controls",
            "_model_module_version": "1.5.0",
            "_model_name": "FloatProgressModel",
            "_view_count": null,
            "_view_module": "@jupyter-widgets/controls",
            "_view_module_version": "1.5.0",
            "_view_name": "ProgressView",
            "bar_style": "success",
            "description": "",
            "description_tooltip": null,
            "layout": "IPY_MODEL_f64efcb122714cb48abf791905c507e3",
            "max": 231508,
            "min": 0,
            "orientation": "horizontal",
            "style": "IPY_MODEL_e17293cdc15d4b0f94b05940f980b423",
            "value": 231508
          }
        },
        "8fbf78bd56df45859e1ed0a7549705a5": {
          "model_module": "@jupyter-widgets/controls",
          "model_name": "HTMLModel",
          "model_module_version": "1.5.0",
          "state": {
            "_dom_classes": [],
            "_model_module": "@jupyter-widgets/controls",
            "_model_module_version": "1.5.0",
            "_model_name": "HTMLModel",
            "_view_count": null,
            "_view_module": "@jupyter-widgets/controls",
            "_view_module_version": "1.5.0",
            "_view_name": "HTMLView",
            "description": "",
            "description_tooltip": null,
            "layout": "IPY_MODEL_aee1a10f9430410b90cef73863c4c4a3",
            "placeholder": "​",
            "style": "IPY_MODEL_3ab98da2b7864cf0afa24fdd623f4145",
            "value": " 232k/232k [00:00&lt;00:00, 6.90MB/s]"
          }
        },
        "8dabd3c2408a4cb7a9d157d7098989d7": {
          "model_module": "@jupyter-widgets/base",
          "model_name": "LayoutModel",
          "model_module_version": "1.2.0",
          "state": {
            "_model_module": "@jupyter-widgets/base",
            "_model_module_version": "1.2.0",
            "_model_name": "LayoutModel",
            "_view_count": null,
            "_view_module": "@jupyter-widgets/base",
            "_view_module_version": "1.2.0",
            "_view_name": "LayoutView",
            "align_content": null,
            "align_items": null,
            "align_self": null,
            "border": null,
            "bottom": null,
            "display": null,
            "flex": null,
            "flex_flow": null,
            "grid_area": null,
            "grid_auto_columns": null,
            "grid_auto_flow": null,
            "grid_auto_rows": null,
            "grid_column": null,
            "grid_gap": null,
            "grid_row": null,
            "grid_template_areas": null,
            "grid_template_columns": null,
            "grid_template_rows": null,
            "height": null,
            "justify_content": null,
            "justify_items": null,
            "left": null,
            "margin": null,
            "max_height": null,
            "max_width": null,
            "min_height": null,
            "min_width": null,
            "object_fit": null,
            "object_position": null,
            "order": null,
            "overflow": null,
            "overflow_x": null,
            "overflow_y": null,
            "padding": null,
            "right": null,
            "top": null,
            "visibility": null,
            "width": null
          }
        },
        "58e33d8f024545f9a46abb2a7081ba75": {
          "model_module": "@jupyter-widgets/base",
          "model_name": "LayoutModel",
          "model_module_version": "1.2.0",
          "state": {
            "_model_module": "@jupyter-widgets/base",
            "_model_module_version": "1.2.0",
            "_model_name": "LayoutModel",
            "_view_count": null,
            "_view_module": "@jupyter-widgets/base",
            "_view_module_version": "1.2.0",
            "_view_name": "LayoutView",
            "align_content": null,
            "align_items": null,
            "align_self": null,
            "border": null,
            "bottom": null,
            "display": null,
            "flex": null,
            "flex_flow": null,
            "grid_area": null,
            "grid_auto_columns": null,
            "grid_auto_flow": null,
            "grid_auto_rows": null,
            "grid_column": null,
            "grid_gap": null,
            "grid_row": null,
            "grid_template_areas": null,
            "grid_template_columns": null,
            "grid_template_rows": null,
            "height": null,
            "justify_content": null,
            "justify_items": null,
            "left": null,
            "margin": null,
            "max_height": null,
            "max_width": null,
            "min_height": null,
            "min_width": null,
            "object_fit": null,
            "object_position": null,
            "order": null,
            "overflow": null,
            "overflow_x": null,
            "overflow_y": null,
            "padding": null,
            "right": null,
            "top": null,
            "visibility": null,
            "width": null
          }
        },
        "8f04e496e20845dfaecb4bd051708614": {
          "model_module": "@jupyter-widgets/controls",
          "model_name": "DescriptionStyleModel",
          "model_module_version": "1.5.0",
          "state": {
            "_model_module": "@jupyter-widgets/controls",
            "_model_module_version": "1.5.0",
            "_model_name": "DescriptionStyleModel",
            "_view_count": null,
            "_view_module": "@jupyter-widgets/base",
            "_view_module_version": "1.2.0",
            "_view_name": "StyleView",
            "description_width": ""
          }
        },
        "f64efcb122714cb48abf791905c507e3": {
          "model_module": "@jupyter-widgets/base",
          "model_name": "LayoutModel",
          "model_module_version": "1.2.0",
          "state": {
            "_model_module": "@jupyter-widgets/base",
            "_model_module_version": "1.2.0",
            "_model_name": "LayoutModel",
            "_view_count": null,
            "_view_module": "@jupyter-widgets/base",
            "_view_module_version": "1.2.0",
            "_view_name": "LayoutView",
            "align_content": null,
            "align_items": null,
            "align_self": null,
            "border": null,
            "bottom": null,
            "display": null,
            "flex": null,
            "flex_flow": null,
            "grid_area": null,
            "grid_auto_columns": null,
            "grid_auto_flow": null,
            "grid_auto_rows": null,
            "grid_column": null,
            "grid_gap": null,
            "grid_row": null,
            "grid_template_areas": null,
            "grid_template_columns": null,
            "grid_template_rows": null,
            "height": null,
            "justify_content": null,
            "justify_items": null,
            "left": null,
            "margin": null,
            "max_height": null,
            "max_width": null,
            "min_height": null,
            "min_width": null,
            "object_fit": null,
            "object_position": null,
            "order": null,
            "overflow": null,
            "overflow_x": null,
            "overflow_y": null,
            "padding": null,
            "right": null,
            "top": null,
            "visibility": null,
            "width": null
          }
        },
        "e17293cdc15d4b0f94b05940f980b423": {
          "model_module": "@jupyter-widgets/controls",
          "model_name": "ProgressStyleModel",
          "model_module_version": "1.5.0",
          "state": {
            "_model_module": "@jupyter-widgets/controls",
            "_model_module_version": "1.5.0",
            "_model_name": "ProgressStyleModel",
            "_view_count": null,
            "_view_module": "@jupyter-widgets/base",
            "_view_module_version": "1.2.0",
            "_view_name": "StyleView",
            "bar_color": null,
            "description_width": ""
          }
        },
        "aee1a10f9430410b90cef73863c4c4a3": {
          "model_module": "@jupyter-widgets/base",
          "model_name": "LayoutModel",
          "model_module_version": "1.2.0",
          "state": {
            "_model_module": "@jupyter-widgets/base",
            "_model_module_version": "1.2.0",
            "_model_name": "LayoutModel",
            "_view_count": null,
            "_view_module": "@jupyter-widgets/base",
            "_view_module_version": "1.2.0",
            "_view_name": "LayoutView",
            "align_content": null,
            "align_items": null,
            "align_self": null,
            "border": null,
            "bottom": null,
            "display": null,
            "flex": null,
            "flex_flow": null,
            "grid_area": null,
            "grid_auto_columns": null,
            "grid_auto_flow": null,
            "grid_auto_rows": null,
            "grid_column": null,
            "grid_gap": null,
            "grid_row": null,
            "grid_template_areas": null,
            "grid_template_columns": null,
            "grid_template_rows": null,
            "height": null,
            "justify_content": null,
            "justify_items": null,
            "left": null,
            "margin": null,
            "max_height": null,
            "max_width": null,
            "min_height": null,
            "min_width": null,
            "object_fit": null,
            "object_position": null,
            "order": null,
            "overflow": null,
            "overflow_x": null,
            "overflow_y": null,
            "padding": null,
            "right": null,
            "top": null,
            "visibility": null,
            "width": null
          }
        },
        "3ab98da2b7864cf0afa24fdd623f4145": {
          "model_module": "@jupyter-widgets/controls",
          "model_name": "DescriptionStyleModel",
          "model_module_version": "1.5.0",
          "state": {
            "_model_module": "@jupyter-widgets/controls",
            "_model_module_version": "1.5.0",
            "_model_name": "DescriptionStyleModel",
            "_view_count": null,
            "_view_module": "@jupyter-widgets/base",
            "_view_module_version": "1.2.0",
            "_view_name": "StyleView",
            "description_width": ""
          }
        },
        "934563e8be354b49bdb76e8fc2fb3266": {
          "model_module": "@jupyter-widgets/controls",
          "model_name": "HBoxModel",
          "model_module_version": "1.5.0",
          "state": {
            "_dom_classes": [],
            "_model_module": "@jupyter-widgets/controls",
            "_model_module_version": "1.5.0",
            "_model_name": "HBoxModel",
            "_view_count": null,
            "_view_module": "@jupyter-widgets/controls",
            "_view_module_version": "1.5.0",
            "_view_name": "HBoxView",
            "box_style": "",
            "children": [
              "IPY_MODEL_2fb695a384104f249f8760c06c73f966",
              "IPY_MODEL_88bd4cba6ab841699aacc0a1dbde7d2c",
              "IPY_MODEL_c8fd7721978545bc901a3f04c4c55632"
            ],
            "layout": "IPY_MODEL_5f95a1c72db84d6f9ff13a4d8d348d2c"
          }
        },
        "2fb695a384104f249f8760c06c73f966": {
          "model_module": "@jupyter-widgets/controls",
          "model_name": "HTMLModel",
          "model_module_version": "1.5.0",
          "state": {
            "_dom_classes": [],
            "_model_module": "@jupyter-widgets/controls",
            "_model_module_version": "1.5.0",
            "_model_name": "HTMLModel",
            "_view_count": null,
            "_view_module": "@jupyter-widgets/controls",
            "_view_module_version": "1.5.0",
            "_view_name": "HTMLView",
            "description": "",
            "description_tooltip": null,
            "layout": "IPY_MODEL_7f9cb074fcff440d88ac2543537373ad",
            "placeholder": "​",
            "style": "IPY_MODEL_1f9d30ceaf244b71b4aea12ce43e93ec",
            "value": "tokenizer.json: 100%"
          }
        },
        "88bd4cba6ab841699aacc0a1dbde7d2c": {
          "model_module": "@jupyter-widgets/controls",
          "model_name": "FloatProgressModel",
          "model_module_version": "1.5.0",
          "state": {
            "_dom_classes": [],
            "_model_module": "@jupyter-widgets/controls",
            "_model_module_version": "1.5.0",
            "_model_name": "FloatProgressModel",
            "_view_count": null,
            "_view_module": "@jupyter-widgets/controls",
            "_view_module_version": "1.5.0",
            "_view_name": "ProgressView",
            "bar_style": "success",
            "description": "",
            "description_tooltip": null,
            "layout": "IPY_MODEL_d2730ccd672c450a8d35586bdc2fa92e",
            "max": 466062,
            "min": 0,
            "orientation": "horizontal",
            "style": "IPY_MODEL_6eb8e146d26849a1887b0fe91fb4936f",
            "value": 466062
          }
        },
        "c8fd7721978545bc901a3f04c4c55632": {
          "model_module": "@jupyter-widgets/controls",
          "model_name": "HTMLModel",
          "model_module_version": "1.5.0",
          "state": {
            "_dom_classes": [],
            "_model_module": "@jupyter-widgets/controls",
            "_model_module_version": "1.5.0",
            "_model_name": "HTMLModel",
            "_view_count": null,
            "_view_module": "@jupyter-widgets/controls",
            "_view_module_version": "1.5.0",
            "_view_name": "HTMLView",
            "description": "",
            "description_tooltip": null,
            "layout": "IPY_MODEL_00473441a05e4e78b78c34b2dc3d8cf2",
            "placeholder": "​",
            "style": "IPY_MODEL_f53259be005c4455b30384d61c3bf5bb",
            "value": " 466k/466k [00:00&lt;00:00, 5.69MB/s]"
          }
        },
        "5f95a1c72db84d6f9ff13a4d8d348d2c": {
          "model_module": "@jupyter-widgets/base",
          "model_name": "LayoutModel",
          "model_module_version": "1.2.0",
          "state": {
            "_model_module": "@jupyter-widgets/base",
            "_model_module_version": "1.2.0",
            "_model_name": "LayoutModel",
            "_view_count": null,
            "_view_module": "@jupyter-widgets/base",
            "_view_module_version": "1.2.0",
            "_view_name": "LayoutView",
            "align_content": null,
            "align_items": null,
            "align_self": null,
            "border": null,
            "bottom": null,
            "display": null,
            "flex": null,
            "flex_flow": null,
            "grid_area": null,
            "grid_auto_columns": null,
            "grid_auto_flow": null,
            "grid_auto_rows": null,
            "grid_column": null,
            "grid_gap": null,
            "grid_row": null,
            "grid_template_areas": null,
            "grid_template_columns": null,
            "grid_template_rows": null,
            "height": null,
            "justify_content": null,
            "justify_items": null,
            "left": null,
            "margin": null,
            "max_height": null,
            "max_width": null,
            "min_height": null,
            "min_width": null,
            "object_fit": null,
            "object_position": null,
            "order": null,
            "overflow": null,
            "overflow_x": null,
            "overflow_y": null,
            "padding": null,
            "right": null,
            "top": null,
            "visibility": null,
            "width": null
          }
        },
        "7f9cb074fcff440d88ac2543537373ad": {
          "model_module": "@jupyter-widgets/base",
          "model_name": "LayoutModel",
          "model_module_version": "1.2.0",
          "state": {
            "_model_module": "@jupyter-widgets/base",
            "_model_module_version": "1.2.0",
            "_model_name": "LayoutModel",
            "_view_count": null,
            "_view_module": "@jupyter-widgets/base",
            "_view_module_version": "1.2.0",
            "_view_name": "LayoutView",
            "align_content": null,
            "align_items": null,
            "align_self": null,
            "border": null,
            "bottom": null,
            "display": null,
            "flex": null,
            "flex_flow": null,
            "grid_area": null,
            "grid_auto_columns": null,
            "grid_auto_flow": null,
            "grid_auto_rows": null,
            "grid_column": null,
            "grid_gap": null,
            "grid_row": null,
            "grid_template_areas": null,
            "grid_template_columns": null,
            "grid_template_rows": null,
            "height": null,
            "justify_content": null,
            "justify_items": null,
            "left": null,
            "margin": null,
            "max_height": null,
            "max_width": null,
            "min_height": null,
            "min_width": null,
            "object_fit": null,
            "object_position": null,
            "order": null,
            "overflow": null,
            "overflow_x": null,
            "overflow_y": null,
            "padding": null,
            "right": null,
            "top": null,
            "visibility": null,
            "width": null
          }
        },
        "1f9d30ceaf244b71b4aea12ce43e93ec": {
          "model_module": "@jupyter-widgets/controls",
          "model_name": "DescriptionStyleModel",
          "model_module_version": "1.5.0",
          "state": {
            "_model_module": "@jupyter-widgets/controls",
            "_model_module_version": "1.5.0",
            "_model_name": "DescriptionStyleModel",
            "_view_count": null,
            "_view_module": "@jupyter-widgets/base",
            "_view_module_version": "1.2.0",
            "_view_name": "StyleView",
            "description_width": ""
          }
        },
        "d2730ccd672c450a8d35586bdc2fa92e": {
          "model_module": "@jupyter-widgets/base",
          "model_name": "LayoutModel",
          "model_module_version": "1.2.0",
          "state": {
            "_model_module": "@jupyter-widgets/base",
            "_model_module_version": "1.2.0",
            "_model_name": "LayoutModel",
            "_view_count": null,
            "_view_module": "@jupyter-widgets/base",
            "_view_module_version": "1.2.0",
            "_view_name": "LayoutView",
            "align_content": null,
            "align_items": null,
            "align_self": null,
            "border": null,
            "bottom": null,
            "display": null,
            "flex": null,
            "flex_flow": null,
            "grid_area": null,
            "grid_auto_columns": null,
            "grid_auto_flow": null,
            "grid_auto_rows": null,
            "grid_column": null,
            "grid_gap": null,
            "grid_row": null,
            "grid_template_areas": null,
            "grid_template_columns": null,
            "grid_template_rows": null,
            "height": null,
            "justify_content": null,
            "justify_items": null,
            "left": null,
            "margin": null,
            "max_height": null,
            "max_width": null,
            "min_height": null,
            "min_width": null,
            "object_fit": null,
            "object_position": null,
            "order": null,
            "overflow": null,
            "overflow_x": null,
            "overflow_y": null,
            "padding": null,
            "right": null,
            "top": null,
            "visibility": null,
            "width": null
          }
        },
        "6eb8e146d26849a1887b0fe91fb4936f": {
          "model_module": "@jupyter-widgets/controls",
          "model_name": "ProgressStyleModel",
          "model_module_version": "1.5.0",
          "state": {
            "_model_module": "@jupyter-widgets/controls",
            "_model_module_version": "1.5.0",
            "_model_name": "ProgressStyleModel",
            "_view_count": null,
            "_view_module": "@jupyter-widgets/base",
            "_view_module_version": "1.2.0",
            "_view_name": "StyleView",
            "bar_color": null,
            "description_width": ""
          }
        },
        "00473441a05e4e78b78c34b2dc3d8cf2": {
          "model_module": "@jupyter-widgets/base",
          "model_name": "LayoutModel",
          "model_module_version": "1.2.0",
          "state": {
            "_model_module": "@jupyter-widgets/base",
            "_model_module_version": "1.2.0",
            "_model_name": "LayoutModel",
            "_view_count": null,
            "_view_module": "@jupyter-widgets/base",
            "_view_module_version": "1.2.0",
            "_view_name": "LayoutView",
            "align_content": null,
            "align_items": null,
            "align_self": null,
            "border": null,
            "bottom": null,
            "display": null,
            "flex": null,
            "flex_flow": null,
            "grid_area": null,
            "grid_auto_columns": null,
            "grid_auto_flow": null,
            "grid_auto_rows": null,
            "grid_column": null,
            "grid_gap": null,
            "grid_row": null,
            "grid_template_areas": null,
            "grid_template_columns": null,
            "grid_template_rows": null,
            "height": null,
            "justify_content": null,
            "justify_items": null,
            "left": null,
            "margin": null,
            "max_height": null,
            "max_width": null,
            "min_height": null,
            "min_width": null,
            "object_fit": null,
            "object_position": null,
            "order": null,
            "overflow": null,
            "overflow_x": null,
            "overflow_y": null,
            "padding": null,
            "right": null,
            "top": null,
            "visibility": null,
            "width": null
          }
        },
        "f53259be005c4455b30384d61c3bf5bb": {
          "model_module": "@jupyter-widgets/controls",
          "model_name": "DescriptionStyleModel",
          "model_module_version": "1.5.0",
          "state": {
            "_model_module": "@jupyter-widgets/controls",
            "_model_module_version": "1.5.0",
            "_model_name": "DescriptionStyleModel",
            "_view_count": null,
            "_view_module": "@jupyter-widgets/base",
            "_view_module_version": "1.2.0",
            "_view_name": "StyleView",
            "description_width": ""
          }
        },
        "cd6efc70139c435f8878136de94f6720": {
          "model_module": "@jupyter-widgets/controls",
          "model_name": "HBoxModel",
          "model_module_version": "1.5.0",
          "state": {
            "_dom_classes": [],
            "_model_module": "@jupyter-widgets/controls",
            "_model_module_version": "1.5.0",
            "_model_name": "HBoxModel",
            "_view_count": null,
            "_view_module": "@jupyter-widgets/controls",
            "_view_module_version": "1.5.0",
            "_view_name": "HBoxView",
            "box_style": "",
            "children": [
              "IPY_MODEL_ca4faa6b1d9b4bef8ed716e9af049c56",
              "IPY_MODEL_677b9b7faa544f118464dccae98fcdc5",
              "IPY_MODEL_ecfc6e388ea348e2b56b47edd3095d4a"
            ],
            "layout": "IPY_MODEL_0ca91a12a7c2487abdbe492bf378ccf3"
          }
        },
        "ca4faa6b1d9b4bef8ed716e9af049c56": {
          "model_module": "@jupyter-widgets/controls",
          "model_name": "HTMLModel",
          "model_module_version": "1.5.0",
          "state": {
            "_dom_classes": [],
            "_model_module": "@jupyter-widgets/controls",
            "_model_module_version": "1.5.0",
            "_model_name": "HTMLModel",
            "_view_count": null,
            "_view_module": "@jupyter-widgets/controls",
            "_view_module_version": "1.5.0",
            "_view_name": "HTMLView",
            "description": "",
            "description_tooltip": null,
            "layout": "IPY_MODEL_bae516cc0861494d8bb12860b0ed966c",
            "placeholder": "​",
            "style": "IPY_MODEL_7a7f04e0d79247e59fbdafff2d39248c",
            "value": "Map: 100%"
          }
        },
        "677b9b7faa544f118464dccae98fcdc5": {
          "model_module": "@jupyter-widgets/controls",
          "model_name": "FloatProgressModel",
          "model_module_version": "1.5.0",
          "state": {
            "_dom_classes": [],
            "_model_module": "@jupyter-widgets/controls",
            "_model_module_version": "1.5.0",
            "_model_name": "FloatProgressModel",
            "_view_count": null,
            "_view_module": "@jupyter-widgets/controls",
            "_view_module_version": "1.5.0",
            "_view_name": "ProgressView",
            "bar_style": "success",
            "description": "",
            "description_tooltip": null,
            "layout": "IPY_MODEL_ce9ae826a9d743d6a843f7fc4cb9b026",
            "max": 20098,
            "min": 0,
            "orientation": "horizontal",
            "style": "IPY_MODEL_78de0e52a8304e46894a040b7f6e2aad",
            "value": 20098
          }
        },
        "ecfc6e388ea348e2b56b47edd3095d4a": {
          "model_module": "@jupyter-widgets/controls",
          "model_name": "HTMLModel",
          "model_module_version": "1.5.0",
          "state": {
            "_dom_classes": [],
            "_model_module": "@jupyter-widgets/controls",
            "_model_module_version": "1.5.0",
            "_model_name": "HTMLModel",
            "_view_count": null,
            "_view_module": "@jupyter-widgets/controls",
            "_view_module_version": "1.5.0",
            "_view_name": "HTMLView",
            "description": "",
            "description_tooltip": null,
            "layout": "IPY_MODEL_17aa5b327e60455593588d3e197e2f7c",
            "placeholder": "​",
            "style": "IPY_MODEL_03d808e3867d4fe2912f3ac1ebffb09c",
            "value": " 20098/20098 [00:17&lt;00:00, 1318.02 examples/s]"
          }
        },
        "0ca91a12a7c2487abdbe492bf378ccf3": {
          "model_module": "@jupyter-widgets/base",
          "model_name": "LayoutModel",
          "model_module_version": "1.2.0",
          "state": {
            "_model_module": "@jupyter-widgets/base",
            "_model_module_version": "1.2.0",
            "_model_name": "LayoutModel",
            "_view_count": null,
            "_view_module": "@jupyter-widgets/base",
            "_view_module_version": "1.2.0",
            "_view_name": "LayoutView",
            "align_content": null,
            "align_items": null,
            "align_self": null,
            "border": null,
            "bottom": null,
            "display": null,
            "flex": null,
            "flex_flow": null,
            "grid_area": null,
            "grid_auto_columns": null,
            "grid_auto_flow": null,
            "grid_auto_rows": null,
            "grid_column": null,
            "grid_gap": null,
            "grid_row": null,
            "grid_template_areas": null,
            "grid_template_columns": null,
            "grid_template_rows": null,
            "height": null,
            "justify_content": null,
            "justify_items": null,
            "left": null,
            "margin": null,
            "max_height": null,
            "max_width": null,
            "min_height": null,
            "min_width": null,
            "object_fit": null,
            "object_position": null,
            "order": null,
            "overflow": null,
            "overflow_x": null,
            "overflow_y": null,
            "padding": null,
            "right": null,
            "top": null,
            "visibility": null,
            "width": null
          }
        },
        "bae516cc0861494d8bb12860b0ed966c": {
          "model_module": "@jupyter-widgets/base",
          "model_name": "LayoutModel",
          "model_module_version": "1.2.0",
          "state": {
            "_model_module": "@jupyter-widgets/base",
            "_model_module_version": "1.2.0",
            "_model_name": "LayoutModel",
            "_view_count": null,
            "_view_module": "@jupyter-widgets/base",
            "_view_module_version": "1.2.0",
            "_view_name": "LayoutView",
            "align_content": null,
            "align_items": null,
            "align_self": null,
            "border": null,
            "bottom": null,
            "display": null,
            "flex": null,
            "flex_flow": null,
            "grid_area": null,
            "grid_auto_columns": null,
            "grid_auto_flow": null,
            "grid_auto_rows": null,
            "grid_column": null,
            "grid_gap": null,
            "grid_row": null,
            "grid_template_areas": null,
            "grid_template_columns": null,
            "grid_template_rows": null,
            "height": null,
            "justify_content": null,
            "justify_items": null,
            "left": null,
            "margin": null,
            "max_height": null,
            "max_width": null,
            "min_height": null,
            "min_width": null,
            "object_fit": null,
            "object_position": null,
            "order": null,
            "overflow": null,
            "overflow_x": null,
            "overflow_y": null,
            "padding": null,
            "right": null,
            "top": null,
            "visibility": null,
            "width": null
          }
        },
        "7a7f04e0d79247e59fbdafff2d39248c": {
          "model_module": "@jupyter-widgets/controls",
          "model_name": "DescriptionStyleModel",
          "model_module_version": "1.5.0",
          "state": {
            "_model_module": "@jupyter-widgets/controls",
            "_model_module_version": "1.5.0",
            "_model_name": "DescriptionStyleModel",
            "_view_count": null,
            "_view_module": "@jupyter-widgets/base",
            "_view_module_version": "1.2.0",
            "_view_name": "StyleView",
            "description_width": ""
          }
        },
        "ce9ae826a9d743d6a843f7fc4cb9b026": {
          "model_module": "@jupyter-widgets/base",
          "model_name": "LayoutModel",
          "model_module_version": "1.2.0",
          "state": {
            "_model_module": "@jupyter-widgets/base",
            "_model_module_version": "1.2.0",
            "_model_name": "LayoutModel",
            "_view_count": null,
            "_view_module": "@jupyter-widgets/base",
            "_view_module_version": "1.2.0",
            "_view_name": "LayoutView",
            "align_content": null,
            "align_items": null,
            "align_self": null,
            "border": null,
            "bottom": null,
            "display": null,
            "flex": null,
            "flex_flow": null,
            "grid_area": null,
            "grid_auto_columns": null,
            "grid_auto_flow": null,
            "grid_auto_rows": null,
            "grid_column": null,
            "grid_gap": null,
            "grid_row": null,
            "grid_template_areas": null,
            "grid_template_columns": null,
            "grid_template_rows": null,
            "height": null,
            "justify_content": null,
            "justify_items": null,
            "left": null,
            "margin": null,
            "max_height": null,
            "max_width": null,
            "min_height": null,
            "min_width": null,
            "object_fit": null,
            "object_position": null,
            "order": null,
            "overflow": null,
            "overflow_x": null,
            "overflow_y": null,
            "padding": null,
            "right": null,
            "top": null,
            "visibility": null,
            "width": null
          }
        },
        "78de0e52a8304e46894a040b7f6e2aad": {
          "model_module": "@jupyter-widgets/controls",
          "model_name": "ProgressStyleModel",
          "model_module_version": "1.5.0",
          "state": {
            "_model_module": "@jupyter-widgets/controls",
            "_model_module_version": "1.5.0",
            "_model_name": "ProgressStyleModel",
            "_view_count": null,
            "_view_module": "@jupyter-widgets/base",
            "_view_module_version": "1.2.0",
            "_view_name": "StyleView",
            "bar_color": null,
            "description_width": ""
          }
        },
        "17aa5b327e60455593588d3e197e2f7c": {
          "model_module": "@jupyter-widgets/base",
          "model_name": "LayoutModel",
          "model_module_version": "1.2.0",
          "state": {
            "_model_module": "@jupyter-widgets/base",
            "_model_module_version": "1.2.0",
            "_model_name": "LayoutModel",
            "_view_count": null,
            "_view_module": "@jupyter-widgets/base",
            "_view_module_version": "1.2.0",
            "_view_name": "LayoutView",
            "align_content": null,
            "align_items": null,
            "align_self": null,
            "border": null,
            "bottom": null,
            "display": null,
            "flex": null,
            "flex_flow": null,
            "grid_area": null,
            "grid_auto_columns": null,
            "grid_auto_flow": null,
            "grid_auto_rows": null,
            "grid_column": null,
            "grid_gap": null,
            "grid_row": null,
            "grid_template_areas": null,
            "grid_template_columns": null,
            "grid_template_rows": null,
            "height": null,
            "justify_content": null,
            "justify_items": null,
            "left": null,
            "margin": null,
            "max_height": null,
            "max_width": null,
            "min_height": null,
            "min_width": null,
            "object_fit": null,
            "object_position": null,
            "order": null,
            "overflow": null,
            "overflow_x": null,
            "overflow_y": null,
            "padding": null,
            "right": null,
            "top": null,
            "visibility": null,
            "width": null
          }
        },
        "03d808e3867d4fe2912f3ac1ebffb09c": {
          "model_module": "@jupyter-widgets/controls",
          "model_name": "DescriptionStyleModel",
          "model_module_version": "1.5.0",
          "state": {
            "_model_module": "@jupyter-widgets/controls",
            "_model_module_version": "1.5.0",
            "_model_name": "DescriptionStyleModel",
            "_view_count": null,
            "_view_module": "@jupyter-widgets/base",
            "_view_module_version": "1.2.0",
            "_view_name": "StyleView",
            "description_width": ""
          }
        }
      }
    }
  }
}