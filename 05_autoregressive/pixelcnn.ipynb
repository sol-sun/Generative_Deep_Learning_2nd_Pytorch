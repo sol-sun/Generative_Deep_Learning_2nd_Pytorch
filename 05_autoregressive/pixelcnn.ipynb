{
  "cells": [
    {
      "cell_type": "markdown",
      "metadata": {
        "id": "view-in-github",
        "colab_type": "text"
      },
      "source": [
        "<a href=\"https://colab.research.google.com/github/sol-sun/Generative_Deep_Learning_2nd_Pytorch/blob/main/05_autoregressive/pixelcnn.ipynb\" target=\"_parent\"><img src=\"https://colab.research.google.com/assets/colab-badge.svg\" alt=\"Open In Colab\"/></a>"
      ]
    },
    {
      "cell_type": "markdown",
      "metadata": {
        "formattedRanges": [],
        "cell_id": "51a14e74f5a940e0ae216757c98a15a3",
        "deepnote_cell_type": "text-cell-h1",
        "id": "3Y7yCFZTLhhd"
      },
      "source": [
        "# 👾 PixelCNNのスクラッチ実装"
      ]
    },
    {
      "cell_type": "markdown",
      "metadata": {
        "formattedRanges": [],
        "cell_id": "347b82a723a34924ac5efdf1938c4dc9",
        "deepnote_cell_type": "text-cell-p",
        "id": "cSL627p_Lhhf"
      },
      "source": [
        "本ノートブックでは，ファッションMNISTデータセットを用いたPixelCNNのスクラッチ実装を行う．"
      ]
    },
    {
      "cell_type": "code",
      "source": [
        "!pip install datasets | tail -n 1\n",
        "!pip install japanize_matplotlib | tail -n 1\n",
        "!pip install kagglehub | tail -n 1\n",
        "!pip install torchinfo | tail -n 1"
      ],
      "metadata": {
        "colab": {
          "base_uri": "https://localhost:8080/"
        },
        "id": "VsKv-kXlLiYH",
        "outputId": "abf6b3b5-f6a1-469c-9f4e-8cfd4e7e7f8f"
      },
      "execution_count": 1,
      "outputs": [
        {
          "output_type": "stream",
          "name": "stdout",
          "text": [
            "\u001b[31mERROR: pip's dependency resolver does not currently take into account all the packages that are installed. This behaviour is the source of the following dependency conflicts.\n",
            "gcsfs 2024.10.0 requires fsspec==2024.10.0, but you have fsspec 2024.9.0 which is incompatible.\u001b[0m\u001b[31m\n",
            "\u001b[0mSuccessfully installed datasets-3.1.0 dill-0.3.8 fsspec-2024.9.0 multiprocess-0.70.16 xxhash-3.5.0\n",
            "Successfully installed japanize_matplotlib-1.1.3\n",
            "Requirement already satisfied: certifi>=2017.4.17 in /usr/local/lib/python3.10/dist-packages (from requests->kagglehub) (2024.8.30)\n",
            "Successfully installed torchinfo-1.8.0\n"
          ]
        }
      ]
    },
    {
      "cell_type": "code",
      "metadata": {
        "source_hash": "eec0612a",
        "execution_start": 1731642472597,
        "execution_millis": 6425,
        "execution_context_id": "fd9b6e00-10c1-4690-93b4-583f4b187d63",
        "cell_id": "f32030d894bd406da4b3a2ea1c771a1e",
        "deepnote_cell_type": "code",
        "colab": {
          "base_uri": "https://localhost:8080/"
        },
        "id": "o88Oqg8JLhhg",
        "outputId": "c5172936-2af7-4bcf-ae17-fb9bcdba8f9a"
      },
      "source": [
        "import numpy as np\n",
        "import os\n",
        "import re\n",
        "import string\n",
        "import shutil\n",
        "import matplotlib.pyplot as plt\n",
        "import japanize_matplotlib\n",
        "from datasets import Dataset as HFDataset\n",
        "import torchvision\n",
        "import torch\n",
        "import torchinfo\n",
        "import random\n",
        "import json\n",
        "import pandas as pd\n",
        "import kagglehub\n",
        "from torch import nn\n",
        "from torch.utils.data import Dataset, DataLoader, Subset\n",
        "from transformers import AutoTokenizer, PretrainedConfig, PreTrainedModel, pipeline\n",
        "from transformers.models.auto.modeling_auto import MODEL_FOR_CAUSAL_LM_MAPPING_NAMES\n",
        "from transformers.modeling_outputs import CausalLMOutput\n",
        "\n",
        "import sys\n",
        "print(sys.version)\n",
        "print(torch.__version__)\n",
        "print(torchvision.__version__)"
      ],
      "execution_count": 2,
      "outputs": [
        {
          "output_type": "stream",
          "name": "stdout",
          "text": [
            "3.10.12 (main, Nov  6 2024, 20:22:13) [GCC 11.4.0]\n",
            "2.5.1+cu121\n",
            "0.20.1+cu121\n"
          ]
        }
      ]
    },
    {
      "cell_type": "code",
      "metadata": {
        "source_hash": "8f7197a6",
        "execution_start": 1731642479073,
        "execution_millis": 0,
        "execution_context_id": "38bc9eb2-daf2-4b07-b088-3fd3719d9197",
        "cell_id": "0ccfac182a604ed582161a90a0511e67",
        "deepnote_cell_type": "code",
        "colab": {
          "base_uri": "https://localhost:8080/"
        },
        "id": "0Cdgz_CoLhhh",
        "outputId": "7f8c5dbe-2bf2-4589-9231-7db81af4fef1"
      },
      "source": [
        "def set_seed(seed):\n",
        "    random.seed(seed)\n",
        "    np.random.seed(seed)\n",
        "    torch.manual_seed(seed)\n",
        "    if torch.backends.mps.is_available():\n",
        "        # MPSを使用する場合の設定\n",
        "        torch.backends.mps.deterministic = True\n",
        "    elif torch.cuda.is_available():\n",
        "        # CUDAが利用可能な場合\n",
        "        torch.cuda.manual_seed(seed)\n",
        "        torch.cuda.manual_seed_all(seed)\n",
        "        torch.backends.cudnn.deterministic = True\n",
        "        torch.backends.cudnn.benchmark = False\n",
        "\n",
        "def save_model(model, path):\n",
        "    os.makedirs(os.path.dirname(path), exist_ok=True)  # ディレクトリを作成\n",
        "    model.eval()\n",
        "    torch.save(model.state_dict(), path)\n",
        "\n",
        "def load_model(model, path, device):\n",
        "    model.load_state_dict(torch.load(path, map_location=device, weights_only=False))\n",
        "    model = model.to(device)\n",
        "    model.eval()\n",
        "    print(f\"Model loaded from {path}\")\n",
        "    return model\n",
        "\n",
        "def save_metrics(metrics_per_epoch, filename):\n",
        "    # ディレクトリが存在しない場合は作成\n",
        "    os.makedirs(os.path.dirname(filename), exist_ok=True)\n",
        "    # ファイルにメトリクスを保存\n",
        "    with open(filename, \"w\") as f:\n",
        "        json.dump(metrics_per_epoch, f, indent=2)\n",
        "\n",
        "# シード値を設定\n",
        "set_seed(1234)\n",
        "\n",
        "if torch.cuda.is_available():\n",
        "    device = torch.device('cuda')\n",
        "elif torch.backends.mps.is_available():\n",
        "    device = torch.device('mps')\n",
        "else:\n",
        "    device = torch.device('cpu')\n",
        "\n",
        "print(device)"
      ],
      "execution_count": 3,
      "outputs": [
        {
          "output_type": "stream",
          "name": "stdout",
          "text": [
            "cpu\n"
          ]
        }
      ]
    },
    {
      "cell_type": "markdown",
      "metadata": {
        "is_collapsed": false,
        "formattedRanges": [],
        "deepnote_app_block_visible": false,
        "cell_id": "d2a6d79f62844f4387d1fa6b9b0053a5",
        "deepnote_cell_type": "text-cell-h2",
        "id": "IU6xzVUALhhh"
      },
      "source": [
        "## 0. パラメータ"
      ]
    },
    {
      "cell_type": "code",
      "metadata": {
        "source_hash": "d421eccb",
        "execution_start": 1731642506781,
        "execution_millis": 0,
        "execution_context_id": "fd9b6e00-10c1-4690-93b4-583f4b187d63",
        "cell_id": "2706dc15adff487d871857229d01b2f0",
        "deepnote_cell_type": "code",
        "id": "BVx1WPjgLhhi"
      },
      "source": [
        "IMAGE_SIZE = 16\n",
        "PIXEL_LEVELS = 128\n",
        "N_FILTERS = 256\n",
        "RESIDUAL_BLOCKS = 5\n",
        "BATCH_SIZE = 128\n",
        "EPOCHS = 50"
      ],
      "execution_count": 4,
      "outputs": []
    },
    {
      "cell_type": "markdown",
      "metadata": {
        "formattedRanges": [],
        "cell_id": "050b96f1aa034708acb5c823fb4da5c9",
        "deepnote_cell_type": "text-cell-h2",
        "id": "3jnDKlQrLhhi"
      },
      "source": [
        "## 1. データの準備"
      ]
    },
    {
      "cell_type": "code",
      "metadata": {
        "source_hash": "5e99bbb6",
        "execution_start": 1731642512413,
        "execution_millis": 839,
        "execution_context_id": "fd9b6e00-10c1-4690-93b4-583f4b187d63",
        "cell_id": "a9dc2cc1445c488f9fabec773f922d35",
        "deepnote_cell_type": "code",
        "colab": {
          "base_uri": "https://localhost:8080/"
        },
        "id": "Z3aqTmyiLhhj",
        "outputId": "175ebf72-15ee-45d7-f07c-999da0b709e1"
      },
      "source": [
        "transform = torchvision.transforms.Compose([\n",
        "        torchvision.transforms.Resize((IMAGE_SIZE, IMAGE_SIZE)),\n",
        "        torchvision.transforms.ToTensor(),\n",
        "    ])\n",
        "trainset = torchvision.datasets.FashionMNIST(root='./data', train=True, download=True, transform=transform)\n",
        "testset = torchvision.datasets.FashionMNIST(root='./data', train=False, download=True, transform=transform)\n",
        "\n",
        "trainloader = DataLoader(trainset, batch_size=BATCH_SIZE, shuffle=True)\n",
        "testloader = DataLoader(testset, batch_size=BATCH_SIZE, shuffle=False)\n",
        "\n",
        "CLASSES = np.array([\n",
        "    \"Tシャツ／トップス\",\n",
        "    \"ズボン\",\n",
        "    \"プルオーバー\",  # 頭から被って着る服\n",
        "    \"ドレス\",\n",
        "    \"コート\",\n",
        "    \"サンダル\",\n",
        "    \"シャツ\",\n",
        "    \"スニーカー\",\n",
        "    \"バッグ\",\n",
        "    \"アンクルブーツ\",  # かかとが隠れる丈のブーツ\n",
        "])"
      ],
      "execution_count": 5,
      "outputs": [
        {
          "output_type": "stream",
          "name": "stdout",
          "text": [
            "Downloading http://fashion-mnist.s3-website.eu-central-1.amazonaws.com/train-images-idx3-ubyte.gz\n",
            "Downloading http://fashion-mnist.s3-website.eu-central-1.amazonaws.com/train-images-idx3-ubyte.gz to ./data/FashionMNIST/raw/train-images-idx3-ubyte.gz\n"
          ]
        },
        {
          "output_type": "stream",
          "name": "stderr",
          "text": [
            "100%|██████████| 26.4M/26.4M [00:01<00:00, 18.6MB/s]\n"
          ]
        },
        {
          "output_type": "stream",
          "name": "stdout",
          "text": [
            "Extracting ./data/FashionMNIST/raw/train-images-idx3-ubyte.gz to ./data/FashionMNIST/raw\n",
            "\n",
            "Downloading http://fashion-mnist.s3-website.eu-central-1.amazonaws.com/train-labels-idx1-ubyte.gz\n",
            "Downloading http://fashion-mnist.s3-website.eu-central-1.amazonaws.com/train-labels-idx1-ubyte.gz to ./data/FashionMNIST/raw/train-labels-idx1-ubyte.gz\n"
          ]
        },
        {
          "output_type": "stream",
          "name": "stderr",
          "text": [
            "100%|██████████| 29.5k/29.5k [00:00<00:00, 313kB/s]\n"
          ]
        },
        {
          "output_type": "stream",
          "name": "stdout",
          "text": [
            "Extracting ./data/FashionMNIST/raw/train-labels-idx1-ubyte.gz to ./data/FashionMNIST/raw\n",
            "\n",
            "Downloading http://fashion-mnist.s3-website.eu-central-1.amazonaws.com/t10k-images-idx3-ubyte.gz\n",
            "Downloading http://fashion-mnist.s3-website.eu-central-1.amazonaws.com/t10k-images-idx3-ubyte.gz to ./data/FashionMNIST/raw/t10k-images-idx3-ubyte.gz\n"
          ]
        },
        {
          "output_type": "stream",
          "name": "stderr",
          "text": [
            "100%|██████████| 4.42M/4.42M [00:00<00:00, 5.60MB/s]\n"
          ]
        },
        {
          "output_type": "stream",
          "name": "stdout",
          "text": [
            "Extracting ./data/FashionMNIST/raw/t10k-images-idx3-ubyte.gz to ./data/FashionMNIST/raw\n",
            "\n",
            "Downloading http://fashion-mnist.s3-website.eu-central-1.amazonaws.com/t10k-labels-idx1-ubyte.gz\n",
            "Downloading http://fashion-mnist.s3-website.eu-central-1.amazonaws.com/t10k-labels-idx1-ubyte.gz to ./data/FashionMNIST/raw/t10k-labels-idx1-ubyte.gz\n"
          ]
        },
        {
          "output_type": "stream",
          "name": "stderr",
          "text": [
            "100%|██████████| 5.15k/5.15k [00:00<00:00, 14.6MB/s]\n"
          ]
        },
        {
          "output_type": "stream",
          "name": "stdout",
          "text": [
            "Extracting ./data/FashionMNIST/raw/t10k-labels-idx1-ubyte.gz to ./data/FashionMNIST/raw\n",
            "\n"
          ]
        }
      ]
    },
    {
      "cell_type": "code",
      "metadata": {
        "source_hash": "53e19cc6",
        "execution_start": 1731642513625,
        "execution_millis": 240,
        "execution_context_id": "fd9b6e00-10c1-4690-93b4-583f4b187d63",
        "cell_id": "104ce04fe1cb4745908511cec37707d8",
        "deepnote_cell_type": "code",
        "colab": {
          "base_uri": "https://localhost:8080/",
          "height": 1000
        },
        "id": "Msx-PFX2Lhhj",
        "outputId": "89ecb03e-dc19-4509-ef51-552c61da72df"
      },
      "source": [
        "print(trainset)\n",
        "# データ確認\n",
        "display(trainset[0][0])\n",
        "# サイズ確認\n",
        "print(np.array(trainset[0][0]).shape)\n",
        "# データの可視化\n",
        "plt.imshow(trainset[1][0].permute(1,2,0), cmap=\"gray\")\n",
        "plt.title(CLASSES[trainset[1][1]])\n",
        "plt.show()"
      ],
      "execution_count": 6,
      "outputs": [
        {
          "output_type": "stream",
          "name": "stdout",
          "text": [
            "Dataset FashionMNIST\n",
            "    Number of datapoints: 60000\n",
            "    Root location: ./data\n",
            "    Split: Train\n",
            "    StandardTransform\n",
            "Transform: Compose(\n",
            "               Resize(size=(16, 16), interpolation=bilinear, max_size=None, antialias=True)\n",
            "               ToTensor()\n",
            "           )\n"
          ]
        },
        {
          "output_type": "display_data",
          "data": {
            "text/plain": [
              "tensor([[[0.0000, 0.0000, 0.0000, 0.0000, 0.0000, 0.0000, 0.0000, 0.0000,\n",
              "          0.0000, 0.0000, 0.0000, 0.0000, 0.0000, 0.0000, 0.0000, 0.0000],\n",
              "         [0.0000, 0.0000, 0.0000, 0.0000, 0.0000, 0.0000, 0.0000, 0.0000,\n",
              "          0.0078, 0.0431, 0.0000, 0.0039, 0.0000, 0.0000, 0.0000, 0.0000],\n",
              "         [0.0000, 0.0000, 0.0000, 0.0000, 0.0000, 0.0000, 0.0039, 0.0235,\n",
              "          0.2588, 0.4039, 0.2000, 0.0549, 0.0039, 0.0078, 0.0078, 0.0078],\n",
              "         [0.0000, 0.0000, 0.0000, 0.0000, 0.0000, 0.0000, 0.0039, 0.0863,\n",
              "          0.6039, 0.7451, 0.5569, 0.4314, 0.2353, 0.1529, 0.2588, 0.1451],\n",
              "         [0.0000, 0.0000, 0.0000, 0.0000, 0.0000, 0.0000, 0.0039, 0.3098,\n",
              "          0.8039, 0.8706, 0.8039, 0.6863, 0.5843, 0.5059, 0.5725, 0.3961],\n",
              "         [0.0000, 0.0000, 0.0000, 0.0000, 0.0000, 0.0000, 0.0000, 0.4510,\n",
              "          0.8588, 0.8667, 0.8588, 0.8588, 0.8392, 0.8000, 0.8510, 0.3686],\n",
              "         [0.0000, 0.0000, 0.0000, 0.0000, 0.0000, 0.0039, 0.0235, 0.5373,\n",
              "          0.8588, 0.8275, 0.7529, 0.8392, 0.8510, 0.8627, 0.8039, 0.4471],\n",
              "         [0.0000, 0.0000, 0.0039, 0.0039, 0.0000, 0.0078, 0.0745, 0.6706,\n",
              "          0.8863, 0.8745, 0.8510, 0.8510, 0.8706, 0.8706, 0.7137, 0.2863],\n",
              "         [0.0000, 0.0039, 0.0157, 0.0196, 0.0275, 0.1451, 0.4078, 0.8235,\n",
              "          0.8588, 0.8627, 0.8588, 0.8588, 0.8745, 0.8627, 0.8314, 0.2392],\n",
              "         [0.0353, 0.1843, 0.2784, 0.3804, 0.5176, 0.7333, 0.8275, 0.8196,\n",
              "          0.8235, 0.8353, 0.9020, 0.8431, 0.8549, 0.9059, 0.9020, 0.4000],\n",
              "         [0.3647, 0.8000, 0.8627, 0.8549, 0.8431, 0.8196, 0.8392, 0.6863,\n",
              "          0.6824, 0.7804, 0.7843, 0.7961, 0.8392, 0.8431, 0.8902, 0.4431],\n",
              "         [0.5569, 0.8078, 0.8157, 0.8431, 0.8706, 0.8000, 0.8118, 0.8196,\n",
              "          0.6706, 0.7059, 0.8000, 0.8392, 0.8235, 0.8392, 0.8667, 0.5373],\n",
              "         [0.3765, 0.7412, 0.7608, 0.7412, 0.7686, 0.7843, 0.8196, 0.8353,\n",
              "          0.8392, 0.8353, 0.8039, 0.7725, 0.7294, 0.6941, 0.7647, 0.5843],\n",
              "         [0.0588, 0.3373, 0.6314, 0.7412, 0.7686, 0.8000, 0.8118, 0.8000,\n",
              "          0.7843, 0.7765, 0.7765, 0.7765, 0.7255, 0.6824, 0.6118, 0.2863],\n",
              "         [0.0000, 0.0000, 0.0824, 0.2392, 0.3451, 0.3804, 0.3647, 0.2824,\n",
              "          0.2314, 0.2078, 0.2000, 0.2000, 0.1882, 0.1608, 0.0627, 0.0039],\n",
              "         [0.0000, 0.0000, 0.0000, 0.0000, 0.0078, 0.0118, 0.0078, 0.0039,\n",
              "          0.0000, 0.0000, 0.0000, 0.0000, 0.0000, 0.0000, 0.0000, 0.0000]]])"
            ]
          },
          "metadata": {}
        },
        {
          "output_type": "stream",
          "name": "stdout",
          "text": [
            "(1, 16, 16)\n"
          ]
        },
        {
          "output_type": "display_data",
          "data": {
            "text/plain": [
              "<Figure size 640x480 with 1 Axes>"
            ],
            "image/png": "[encoded data removed]"
          },
          "metadata": {}
        }
      ]
    },
    {
      "cell_type": "markdown",
      "metadata": {
        "formattedRanges": [],
        "cell_id": "0669f5d759f343e5ab5f7268d7272342",
        "deepnote_cell_type": "text-cell-h2",
        "id": "hKZjGui0Lhhj"
      },
      "source": [
        "## 2. PixelCNNの実装(Channel=1)"
      ]
    },
    {
      "cell_type": "code",
      "metadata": {
        "source_hash": "9cdbe204",
        "execution_start": 1731642516303,
        "execution_millis": 2,
        "execution_context_id": "fd9b6e00-10c1-4690-93b4-583f4b187d63",
        "cell_id": "4d759bd4b94249538185808b4c8d1916",
        "deepnote_cell_type": "code",
        "id": "assNdwK6Lhhj"
      },
      "source": [
        "class MaskedConv2D(nn.Module):\n",
        "    def __init__(self, *args, mask_type, **kwargs):\n",
        "        super().__init__()\n",
        "        self.conv = nn.Conv2d(*args, **kwargs)\n",
        "        self.mask_type = mask_type\n",
        "        # 最適化しないパラメータ\n",
        "        self.register_buffer(\"mask\", torch.zeros_like(self.conv.weight))\n",
        "        in_channels, out_channels, kh, kw = self.conv.weight.shape\n",
        "        self.mask[:, :, :kh//2, :] = 1.0\n",
        "        self.mask[:, :, kh//2, :kw//2] = 1.0\n",
        "\n",
        "        if self.mask_type == 'B':\n",
        "        # type Bの場合，中央のカーネルも計算に含める\n",
        "            self.mask[:, :, kh//2, kw//2] = 1.0\n",
        "\n",
        "    def forward(self, x):\n",
        "        self.conv.weight.data *= self.mask\n",
        "        return self.conv(x)\n",
        "\n",
        "\n",
        "class ResidualBlock(nn.Module):\n",
        "    def __init__(self, filters):\n",
        "        super().__init__()\n",
        "        self.conv1 = nn.Conv2d(in_channels=filters, out_channels = filters//2, kernel_size=(1, 1), padding=0,\n",
        "                               )\n",
        "        self.pixel_conv = MaskedConv2D(in_channels=filters//2, out_channels = filters//2,\n",
        "        mask_type=\"B\", kernel_size=(3, 3), stride=1, padding=1, bias=False)\n",
        "        self.batch = nn.BatchNorm2d(filters//2)\n",
        "        self.conv2 = nn.Conv2d(in_channels=filters//2, out_channels = filters, kernel_size=(1, 1))\n",
        "        self.relu = nn.ReLU()\n",
        "\n",
        "    def forward(self, x):\n",
        "        y = self.relu(self.conv1(x))\n",
        "        y = self.relu(self.batch(self.pixel_conv(y)))\n",
        "        y = self.conv2(y)\n",
        "        return self.relu(x + y)\n",
        "\n",
        "\n",
        "class PixelCNN(nn.Module):\n",
        "    def __init__(self):\n",
        "        super().__init__()\n",
        "        self.masked_conv1 = MaskedConv2D(mask_type=\"A\", in_channels=1, out_channels=N_FILTERS, kernel_size=(7, 7),\n",
        "                                         stride=1, padding=3, bias=False)\n",
        "        self.batch = nn.BatchNorm2d(N_FILTERS)\n",
        "        self.residual_block = nn.Sequential(*[ResidualBlock(filters=N_FILTERS) for _ in range(RESIDUAL_BLOCKS)])\n",
        "        self.relu = nn.ReLU()\n",
        "        self.masked_conv = nn.ModuleList()\n",
        "        for _ in range(2):\n",
        "            self.masked_conv.append(MaskedConv2D(in_channels=N_FILTERS,\n",
        "                                                 out_channels=N_FILTERS, kernel_size=(3, 3), stride=1, padding=1,\n",
        "                                                 mask_type=\"B\", bias=False))\n",
        "            self.masked_conv.append(nn.BatchNorm2d(N_FILTERS))\n",
        "            self.masked_conv.append(nn.ReLU())\n",
        "\n",
        "        self.conv2 = nn.Conv2d(in_channels=N_FILTERS, out_channels=PIXEL_LEVELS, kernel_size=(1, 1), stride=1,\n",
        "                               padding=0)\n",
        "\n",
        "    def forward(self, x):\n",
        "        x = self.relu(self.batch(self.masked_conv1(x)))\n",
        "        x = self.residual_block(x)\n",
        "\n",
        "        for block in self.masked_conv:\n",
        "            x = block(x)\n",
        "\n",
        "        x = self.conv2(x)\n",
        "        return x"
      ],
      "execution_count": 7,
      "outputs": []
    },
    {
      "cell_type": "code",
      "metadata": {
        "source_hash": "fbf042a0",
        "execution_start": 1731562524168,
        "execution_millis": 2,
        "execution_context_id": "2bcf004e-340b-4f42-b238-b3492440a678",
        "cell_id": "540d539093a84a73b873e6a3cd2cdb15",
        "deepnote_cell_type": "code",
        "id": "5aXF4skOLhhk"
      },
      "source": [
        "class MaskedConv2D(nn.Module):\n",
        "    def __init__(self, *args, mask_type, **kwargs):\n",
        "        super().__init__()\n",
        "        self.conv = nn.Conv2d(*args, **kwargs)\n",
        "        self.mask_type = mask_type\n",
        "        # 最適化しないパラメータ\n",
        "        self.register_buffer(\"mask\", torch.zeros_like(self.conv.weight))\n",
        "        in_channels, out_channels, kh, kw = self.conv.weight.shape\n",
        "        self.mask[:, :, :kh//2, :] = 1.0\n",
        "        self.mask[:, :, kh//2, :kw//2] = 1.0\n",
        "\n",
        "        if self.mask_type == 'B':\n",
        "        # type Bの場合，中央のカーネルも計算に含める\n",
        "            self.mask[:, :, kh//2, kw//2] = 1.0\n",
        "\n",
        "    def forward(self, x):\n",
        "        self.conv.weight.data *= self.mask\n",
        "        return self.conv(x)"
      ],
      "execution_count": 8,
      "outputs": []
    },
    {
      "cell_type": "code",
      "metadata": {
        "source_hash": "3de31057",
        "execution_start": 1731562532782,
        "execution_millis": 0,
        "execution_context_id": "2bcf004e-340b-4f42-b238-b3492440a678",
        "cell_id": "80486b800fb944e893f480e2c36e05a2",
        "deepnote_cell_type": "code",
        "id": "2qE0fiumLhhk"
      },
      "source": [
        "class ResidualBlock(nn.Module):\n",
        "    def __init__(self, filters):\n",
        "        super().__init__()\n",
        "        self.conv1 = nn.Conv2d(in_channels=filters, out_channels = filters//2, kernel_size=(1, 1), padding=0,\n",
        "                               )\n",
        "        self.pixel_conv = MaskedConv2D(in_channels=filters//2, out_channels = filters//2,\n",
        "        mask_type=\"B\", kernel_size=(3, 3), stride=1, padding=1, bias=False)\n",
        "        self.batch = nn.BatchNorm2d(filters//2)\n",
        "        self.conv2 = nn.Conv2d(in_channels=filters//2, out_channels = filters, kernel_size=(1, 1))\n",
        "        self.relu = nn.ReLU()\n",
        "\n",
        "    def forward(self, x):\n",
        "        y = self.relu(self.conv1(x))\n",
        "        y = self.relu(self.batch(self.pixel_conv(y)))\n",
        "        y = self.relu(self.conv2(y))\n",
        "        return x + y"
      ],
      "execution_count": 9,
      "outputs": []
    },
    {
      "cell_type": "code",
      "metadata": {
        "source_hash": "85bf0103",
        "execution_start": 1731562589586,
        "execution_millis": 0,
        "execution_context_id": "2bcf004e-340b-4f42-b238-b3492440a678",
        "cell_id": "20d05f1dd7864892b4b9b10f8b8c52b9",
        "deepnote_cell_type": "code",
        "id": "E7FcODhJLhhk"
      },
      "source": [
        "class PixelCNN(nn.Module):\n",
        "    def __init__(self):\n",
        "        super().__init__()\n",
        "        self.masked_conv1 = MaskedConv2D(mask_type=\"A\", in_channels=1, out_channels=N_FILTERS, kernel_size=(7, 7),\n",
        "                                         stride=1, padding=3, bias=False)\n",
        "        self.batch = nn.BatchNorm2d(N_FILTERS)\n",
        "        self.residual_block = nn.Sequential(*[ResidualBlock(filters=N_FILTERS) for _ in range(RESIDUAL_BLOCKS)])\n",
        "        self.relu = nn.ReLU()\n",
        "        self.masked_conv = nn.ModuleList()\n",
        "        for _ in range(2):\n",
        "            self.masked_conv.append(MaskedConv2D(in_channels=N_FILTERS,\n",
        "                                                 out_channels=N_FILTERS, kernel_size=(1, 1), stride=1, padding=0,\n",
        "                                                 mask_type=\"B\", bias=False))\n",
        "            self.masked_conv.append(nn.BatchNorm2d(N_FILTERS))\n",
        "            self.masked_conv.append(nn.ReLU())\n",
        "\n",
        "        self.conv2 = nn.Conv2d(in_channels=N_FILTERS, out_channels=PIXEL_LEVELS, kernel_size=(1, 1), stride=1,\n",
        "                               padding=0)\n",
        "\n",
        "    def forward(self, x):\n",
        "        x = self.relu(self.batch(self.masked_conv1(x)))\n",
        "        x = self.residual_block(x)\n",
        "\n",
        "        for block in self.masked_conv:\n",
        "            x = block(x)\n",
        "\n",
        "        x = self.conv2(x)\n",
        "        return x"
      ],
      "execution_count": 10,
      "outputs": []
    },
    {
      "cell_type": "code",
      "metadata": {
        "source_hash": "5ee9b87d",
        "execution_start": 1731642545329,
        "execution_millis": 161,
        "execution_context_id": "fd9b6e00-10c1-4690-93b4-583f4b187d63",
        "cell_id": "0b762c596ea44b5ab402c8811bb65cc1",
        "deepnote_cell_type": "code",
        "colab": {
          "base_uri": "https://localhost:8080/"
        },
        "id": "YmmVcW8KLhhk",
        "outputId": "63b05753-b2e8-48a2-d600-a1b3e616cb1c"
      },
      "source": [
        "model = PixelCNN()\n",
        "torchinfo.summary(model.eval(), input_size=(1, 1, IMAGE_SIZE, IMAGE_SIZE))"
      ],
      "execution_count": 11,
      "outputs": [
        {
          "output_type": "execute_result",
          "data": {
            "text/plain": [
              "==========================================================================================\n",
              "Layer (type:depth-idx)                   Output Shape              Param #\n",
              "==========================================================================================\n",
              "PixelCNN                                 [1, 128, 16, 16]          --\n",
              "├─MaskedConv2D: 1-1                      [1, 256, 16, 16]          --\n",
              "│    └─Conv2d: 2-1                       [1, 256, 16, 16]          12,544\n",
              "├─BatchNorm2d: 1-2                       [1, 256, 16, 16]          512\n",
              "├─ReLU: 1-3                              [1, 256, 16, 16]          --\n",
              "├─Sequential: 1-4                        [1, 256, 16, 16]          --\n",
              "│    └─ResidualBlock: 2-2                [1, 256, 16, 16]          --\n",
              "│    │    └─Conv2d: 3-1                  [1, 128, 16, 16]          32,896\n",
              "│    │    └─ReLU: 3-2                    [1, 128, 16, 16]          --\n",
              "│    │    └─MaskedConv2D: 3-3            [1, 128, 16, 16]          147,456\n",
              "│    │    └─BatchNorm2d: 3-4             [1, 128, 16, 16]          256\n",
              "│    │    └─ReLU: 3-5                    [1, 128, 16, 16]          --\n",
              "│    │    └─Conv2d: 3-6                  [1, 256, 16, 16]          33,024\n",
              "│    │    └─ReLU: 3-7                    [1, 256, 16, 16]          --\n",
              "│    └─ResidualBlock: 2-3                [1, 256, 16, 16]          --\n",
              "│    │    └─Conv2d: 3-8                  [1, 128, 16, 16]          32,896\n",
              "│    │    └─ReLU: 3-9                    [1, 128, 16, 16]          --\n",
              "│    │    └─MaskedConv2D: 3-10           [1, 128, 16, 16]          147,456\n",
              "│    │    └─BatchNorm2d: 3-11            [1, 128, 16, 16]          256\n",
              "│    │    └─ReLU: 3-12                   [1, 128, 16, 16]          --\n",
              "│    │    └─Conv2d: 3-13                 [1, 256, 16, 16]          33,024\n",
              "│    │    └─ReLU: 3-14                   [1, 256, 16, 16]          --\n",
              "│    └─ResidualBlock: 2-4                [1, 256, 16, 16]          --\n",
              "│    │    └─Conv2d: 3-15                 [1, 128, 16, 16]          32,896\n",
              "│    │    └─ReLU: 3-16                   [1, 128, 16, 16]          --\n",
              "│    │    └─MaskedConv2D: 3-17           [1, 128, 16, 16]          147,456\n",
              "│    │    └─BatchNorm2d: 3-18            [1, 128, 16, 16]          256\n",
              "│    │    └─ReLU: 3-19                   [1, 128, 16, 16]          --\n",
              "│    │    └─Conv2d: 3-20                 [1, 256, 16, 16]          33,024\n",
              "│    │    └─ReLU: 3-21                   [1, 256, 16, 16]          --\n",
              "│    └─ResidualBlock: 2-5                [1, 256, 16, 16]          --\n",
              "│    │    └─Conv2d: 3-22                 [1, 128, 16, 16]          32,896\n",
              "│    │    └─ReLU: 3-23                   [1, 128, 16, 16]          --\n",
              "│    │    └─MaskedConv2D: 3-24           [1, 128, 16, 16]          147,456\n",
              "│    │    └─BatchNorm2d: 3-25            [1, 128, 16, 16]          256\n",
              "│    │    └─ReLU: 3-26                   [1, 128, 16, 16]          --\n",
              "│    │    └─Conv2d: 3-27                 [1, 256, 16, 16]          33,024\n",
              "│    │    └─ReLU: 3-28                   [1, 256, 16, 16]          --\n",
              "│    └─ResidualBlock: 2-6                [1, 256, 16, 16]          --\n",
              "│    │    └─Conv2d: 3-29                 [1, 128, 16, 16]          32,896\n",
              "│    │    └─ReLU: 3-30                   [1, 128, 16, 16]          --\n",
              "│    │    └─MaskedConv2D: 3-31           [1, 128, 16, 16]          147,456\n",
              "│    │    └─BatchNorm2d: 3-32            [1, 128, 16, 16]          256\n",
              "│    │    └─ReLU: 3-33                   [1, 128, 16, 16]          --\n",
              "│    │    └─Conv2d: 3-34                 [1, 256, 16, 16]          33,024\n",
              "│    │    └─ReLU: 3-35                   [1, 256, 16, 16]          --\n",
              "├─ModuleList: 1-5                        --                        --\n",
              "│    └─MaskedConv2D: 2-7                 [1, 256, 16, 16]          --\n",
              "│    │    └─Conv2d: 3-36                 [1, 256, 16, 16]          65,536\n",
              "│    └─BatchNorm2d: 2-8                  [1, 256, 16, 16]          512\n",
              "│    └─ReLU: 2-9                         [1, 256, 16, 16]          --\n",
              "│    └─MaskedConv2D: 2-10                [1, 256, 16, 16]          --\n",
              "│    │    └─Conv2d: 3-37                 [1, 256, 16, 16]          65,536\n",
              "│    └─BatchNorm2d: 2-11                 [1, 256, 16, 16]          512\n",
              "│    └─ReLU: 2-12                        [1, 256, 16, 16]          --\n",
              "├─Conv2d: 1-6                            [1, 128, 16, 16]          32,896\n",
              "==========================================================================================\n",
              "Total params: 1,246,208\n",
              "Trainable params: 1,246,208\n",
              "Non-trainable params: 0\n",
              "Total mult-adds (M): 318.31\n",
              "==========================================================================================\n",
              "Input size (MB): 0.00\n",
              "Forward/backward pass size (MB): 9.96\n",
              "Params size (MB): 4.98\n",
              "Estimated Total Size (MB): 14.95\n",
              "=========================================================================================="
            ]
          },
          "metadata": {},
          "execution_count": 11
        }
      ]
    },
    {
      "cell_type": "markdown",
      "metadata": {
        "formattedRanges": [],
        "cell_id": "d729cb09abf044868418cfd5c911d797",
        "deepnote_cell_type": "text-cell-h2",
        "id": "53TG4FpuLhhk"
      },
      "source": [
        "## 3. PixelCNNモデルを学習"
      ]
    },
    {
      "cell_type": "code",
      "metadata": {
        "source_hash": "7d70ad73",
        "execution_start": 1731642549901,
        "execution_millis": 3,
        "execution_context_id": "fd9b6e00-10c1-4690-93b4-583f4b187d63",
        "cell_id": "7fb6efe12d4c46b4a241ce2c6713a742",
        "deepnote_cell_type": "code",
        "id": "bn-tbh7bLhhk"
      },
      "source": [
        "criterion = nn.CrossEntropyLoss(reduction=\"mean\")\n",
        "optimizer = torch.optim.Adam(model.parameters(), lr=0.005)"
      ],
      "execution_count": 12,
      "outputs": []
    },
    {
      "cell_type": "markdown",
      "source": [
        "### 学習する場合は以下（GPU推奨）"
      ],
      "metadata": {
        "id": "LPutQYdwL-TB"
      }
    },
    {
      "cell_type": "code",
      "metadata": {
        "source_hash": "5fe4d85a",
        "execution_start": 1731392704656,
        "execution_millis": 1071,
        "execution_context_id": "7a147fee-46ac-43ae-ba11-98fe3c56dc1f",
        "cell_id": "892c4665f22644298ccdc7a2d8f56c7a",
        "deepnote_cell_type": "code",
        "id": "Q-tk_bAyLhhl"
      },
      "source": [
        "# model = model.to(device)\n",
        "# model.train()\n",
        "# metrics_per_epoch = {\n",
        "#     \"loss\": [],\n",
        "# }\n",
        "# for epoch in range(EPOCHS):\n",
        "#     epoch_metrics = {metric: 0 for metric in metrics_per_epoch}\n",
        "#     batch_count = 0\n",
        "#     for i, data in enumerate(trainloader, 0):\n",
        "#         images, _ = data\n",
        "#         images = images.to(device)\n",
        "#         # 0-1を0-PIXEL_LEVELS-1(整数)にスケーリングする\n",
        "#         target = torch.clamp(torch.round(images[:, 0, :, :] * PIXEL_LEVELS).long(), min=0, max=PIXEL_LEVELS-1)\n",
        "\n",
        "#         optimizer.zero_grad()\n",
        "\n",
        "#         output = model(images)\n",
        "#         loss = criterion(output, target)\n",
        "#         loss.backward()\n",
        "#         optimizer.step()\n",
        "\n",
        "#         for key in epoch_metrics:\n",
        "#             epoch_metrics[key] += loss.item()\n",
        "#         batch_count += 1\n",
        "#     for key in epoch_metrics:\n",
        "#         epoch_metrics[key] /= batch_count\n",
        "#         metrics_per_epoch[key].append(epoch_metrics[key])\n",
        "\n",
        "#     # epoch終了時点でのlossの平均値\n",
        "#     print(\"Epoch {}:\".format(epoch + 1), epoch_metrics)"
      ],
      "execution_count": 13,
      "outputs": []
    },
    {
      "cell_type": "code",
      "source": [
        "  # # modelを保存\n",
        "  # save_path = f\"./models/scrach_pixelcnn_model_epoch_{EPOCHS}.pth\"\n",
        "\n",
        "  # save_model(model, save_path)\n",
        "\n",
        "  # # metricsを保存\n",
        "  # metrics_save_path = f\"./metrics/scrach_pixelcnn_metrics.json\"\n",
        "  # save_metrics(metrics_per_epoch=metrics_per_epoch, filename=metrics_save_path)"
      ],
      "metadata": {
        "id": "jpgvqQnqL7xI"
      },
      "execution_count": 14,
      "outputs": []
    },
    {
      "cell_type": "markdown",
      "source": [
        "### 学習済みモデルをロードする場合は以下"
      ],
      "metadata": {
        "id": "sfkaKtltMVpk"
      }
    },
    {
      "cell_type": "code",
      "metadata": {
        "source_hash": "52a1f57b",
        "execution_start": 1731642554051,
        "execution_millis": 576,
        "execution_context_id": "fd9b6e00-10c1-4690-93b4-583f4b187d63",
        "cell_id": "f0db02245a094493a4d4dd723ee7c0ed",
        "deepnote_cell_type": "code",
        "colab": {
          "base_uri": "https://localhost:8080/"
        },
        "id": "mAoAbyN7Lhhl",
        "outputId": "37d0ba3d-b46c-41aa-9130-9fa83e40320f"
      },
      "source": [
        "import urllib.request\n",
        "\n",
        "# モデルのURL\n",
        "model_url = \"https://github.com/sol-sun/Generative_Deep_Learning_2nd_Pytorch/raw/main/05_autoregressive/models/scrach_pixelcnn_model_epoch_50.pth\"\n",
        "local_model_path = \"scrach_pixelcnn_model_epoch_50.pth\"\n",
        "\n",
        "# モデルをダウンロード\n",
        "urllib.request.urlretrieve(model_url, local_model_path)\n",
        "\n",
        "# モデルをデバイスに移動して読み込み\n",
        "model = load_model(model, local_model_path, device)"
      ],
      "execution_count": 15,
      "outputs": [
        {
          "output_type": "stream",
          "name": "stdout",
          "text": [
            "Model loaded from scrach_pixelcnn_model_epoch_50.pth\n"
          ]
        }
      ]
    },
    {
      "cell_type": "markdown",
      "metadata": {
        "formattedRanges": [],
        "cell_id": "45448cd3813a45a7b10ad108a99e45fe",
        "deepnote_cell_type": "text-cell-h2",
        "id": "EHZ97eo-Lhhl"
      },
      "source": [
        "## 4. PixelCNNを使って画像を生成する"
      ]
    },
    {
      "cell_type": "code",
      "metadata": {
        "source_hash": "9f4a5cc2",
        "execution_start": 1731645398296,
        "execution_millis": 57948,
        "execution_context_id": "fd9b6e00-10c1-4690-93b4-583f4b187d63",
        "cell_id": "c584f7a8ea594573a552853edbf00324",
        "deepnote_cell_type": "code",
        "id": "9JgFDgc1Lhhl"
      },
      "source": [
        "class ImageGenerator():\n",
        "    def __init__(self, pixelcnn_model, num_img):\n",
        "        self.num_img = num_img\n",
        "        self.model = pixelcnn_model\n",
        "        self.model.eval()\n",
        "        self.softmax = nn.Softmax(dim=-1)\n",
        "\n",
        "    def sample_from(self, probs, temperature):\n",
        "        probs = probs ** (1 / temperature)\n",
        "        probs /= torch.sum(probs, dim=1, keepdim=True)\n",
        "        probs = probs.to(device)\n",
        "        return torch.multinomial(probs, num_samples=1, replacement=True).float()\n",
        "\n",
        "    def generate(self, temperature):\n",
        "        generated_images = torch.zeros((self.num_img,) + (BATCH_SIZE, 1, IMAGE_SIZE, IMAGE_SIZE)[1:])\n",
        "        generated_images = generated_images.to(device)\n",
        "        batch, channels, rows, cols = generated_images.shape\n",
        "\n",
        "        for channel in range(channels):\n",
        "            for row in range(rows):\n",
        "                for col in range(cols):\n",
        "                    probs = self.model(generated_images).cpu().detach()[:, :, row, col]\n",
        "                    probs = self.softmax(probs).cpu().detach()\n",
        "\n",
        "                    generated_images[:, [channel], row, col] = (\n",
        "                                self.sample_from(probs, temperature) / (PIXEL_LEVELS - 1))\n",
        "\n",
        "        return generated_images\n",
        "\n",
        "image_generator = ImageGenerator(model, num_img=10)\n",
        "generated_images = image_generator.generate(temperature=1.0)"
      ],
      "execution_count": 16,
      "outputs": []
    },
    {
      "cell_type": "code",
      "metadata": {
        "source_hash": "8cc79e40",
        "execution_start": 1731645474524,
        "execution_millis": 270,
        "execution_context_id": "fd9b6e00-10c1-4690-93b4-583f4b187d63",
        "cell_id": "8dc54b58c42f453997f404098d6ebf11",
        "deepnote_cell_type": "code",
        "colab": {
          "base_uri": "https://localhost:8080/",
          "height": 783
        },
        "id": "QKaOfKKYLhhl",
        "outputId": "1463166e-78e1-4752-df16-1278a2df9ddb"
      },
      "source": [
        "# 画像を図示する\n",
        "def plot_images(generated_images):\n",
        "    fig = plt.figure(figsize=(10, 10))\n",
        "    fig.subplots_adjust(left=0, right=1, bottom=0, top=1, hspace=0.05, wspace=0.05)\n",
        "    for i in range(generated_images.size()[0]):\n",
        "        ax = fig.add_subplot(4, 4, i + 1, xticks=[], yticks=[])\n",
        "        ax.imshow(generated_images[i].permute(1,2,0).cpu().detach().numpy(), cmap=\"gray\")\n",
        "    plt.show()\n",
        "\n",
        "plot_images(generated_images)"
      ],
      "execution_count": 17,
      "outputs": [
        {
          "output_type": "display_data",
          "data": {
            "text/plain": [
              "<Figure size 1000x1000 with 10 Axes>"
            ],
            "image/png": "[encoded data removed]"
          },
          "metadata": {}
        }
      ]
    },
    {
      "cell_type": "code",
      "source": [],
      "metadata": {
        "id": "oMPiaRKSWENV"
      },
      "execution_count": null,
      "outputs": []
    }
  ],
  "nbformat": 4,
  "nbformat_minor": 0,
  "metadata": {
    "deepnote_persisted_session": {
      "createdAt": "2024-11-15T04:57:21.325Z"
    },
    "deepnote_notebook_id": "490379afb23e43f0811cc5e705035d20",
    "colab": {
      "provenance": [],
      "include_colab_link": true
    },
    "language_info": {
      "name": "python"
    },
    "kernelspec": {
      "name": "python3",
      "display_name": "Python 3"
    }
  }
}